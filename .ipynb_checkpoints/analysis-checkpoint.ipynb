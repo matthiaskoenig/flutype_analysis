{
 "cells": [
  {
   "cell_type": "markdown",
   "metadata": {},
   "source": [
    "# Analysis of Microarray & Microtiter plates\n",
    "Analysis of peptide-virus binding signals.\n",
    "\n",
    "This notebook provides simple visualisation and analysis functions to work with experimental data sets from the FluType project."
   ]
  },
  {
   "cell_type": "code",
   "execution_count": 1,
   "metadata": {
    "collapsed": true
   },
   "outputs": [],
   "source": [
    "# TODO: larger axes & bold\n",
    "# TODO: correlation plot"
   ]
  },
  {
   "cell_type": "code",
   "execution_count": 2,
   "metadata": {},
   "outputs": [],
   "source": [
    "import numpy as np\n",
    "import pandas as pd\n",
    "import matplotlib.pyplot as plt\n",
    "from sklearn import decomposition\n",
    "from sklearn.preprocessing import normalize\n",
    "import matplotlib.cm as cm\n",
    "import matplotlib.patches as patches\n",
    "import matplotlib.colors as colors\n",
    "\n",
    "# import string\n",
    "# from mpl_toolkits.axes_grid1 import make_axes_locatable\n",
    "# from mpl_toolkits.mplot3d import Axes3D\n",
    "# import pyexcel \n",
    "# import json"
   ]
  },
  {
   "cell_type": "markdown",
   "metadata": {},
   "source": [
    "## Load dataset for analysis\n",
    "Here the different data sets are loaded and brought in a common standard format for the analysis pipeline."
   ]
  },
  {
   "cell_type": "code",
   "execution_count": 3,
   "metadata": {},
   "outputs": [
    {
     "data": {
      "text/html": [
       "<div>\n",
       "<style>\n",
       "    .dataframe thead tr:only-child th {\n",
       "        text-align: right;\n",
       "    }\n",
       "\n",
       "    .dataframe thead th {\n",
       "        text-align: left;\n",
       "    }\n",
       "\n",
       "    .dataframe tbody tr th {\n",
       "        vertical-align: top;\n",
       "    }\n",
       "</style>\n",
       "<table border=\"1\" class=\"dataframe\">\n",
       "  <thead>\n",
       "    <tr style=\"text-align: right;\">\n",
       "      <th></th>\n",
       "      <th>field</th>\n",
       "      <th>info</th>\n",
       "    </tr>\n",
       "  </thead>\n",
       "  <tbody>\n",
       "    <tr>\n",
       "      <th>0</th>\n",
       "      <td>type</td>\n",
       "      <td>Microarray</td>\n",
       "    </tr>\n",
       "    <tr>\n",
       "      <th>1</th>\n",
       "      <td>date</td>\n",
       "      <td>?</td>\n",
       "    </tr>\n",
       "    <tr>\n",
       "      <th>2</th>\n",
       "      <td>repeat</td>\n",
       "      <td>1</td>\n",
       "    </tr>\n",
       "    <tr>\n",
       "      <th>3</th>\n",
       "      <td>total_repeats</td>\n",
       "      <td>1</td>\n",
       "    </tr>\n",
       "    <tr>\n",
       "      <th>4</th>\n",
       "      <td>virus</td>\n",
       "      <td>?</td>\n",
       "    </tr>\n",
       "    <tr>\n",
       "      <th>5</th>\n",
       "      <td>peptides</td>\n",
       "      <td>?</td>\n",
       "    </tr>\n",
       "  </tbody>\n",
       "</table>\n",
       "</div>"
      ],
      "text/plain": [
       "           field        info\n",
       "0           type  Microarray\n",
       "1           date           ?\n",
       "2         repeat           1\n",
       "3  total_repeats           1\n",
       "4          virus           ?\n",
       "5       peptides           ?"
      ]
     },
     "metadata": {},
     "output_type": "display_data"
    },
    {
     "data": {
      "text/html": [
       "<div>\n",
       "<style>\n",
       "    .dataframe thead tr:only-child th {\n",
       "        text-align: right;\n",
       "    }\n",
       "\n",
       "    .dataframe thead th {\n",
       "        text-align: left;\n",
       "    }\n",
       "\n",
       "    .dataframe tbody tr th {\n",
       "        vertical-align: top;\n",
       "    }\n",
       "</style>\n",
       "<table border=\"1\" class=\"dataframe\">\n",
       "  <thead>\n",
       "    <tr style=\"text-align: right;\">\n",
       "      <th></th>\n",
       "      <th>P1</th>\n",
       "      <th>P3</th>\n",
       "      <th>P4</th>\n",
       "      <th>P5</th>\n",
       "      <th>P6</th>\n",
       "      <th>P7</th>\n",
       "      <th>P8</th>\n",
       "      <th>P10</th>\n",
       "      <th>P13</th>\n",
       "    </tr>\n",
       "    <tr>\n",
       "      <th>virus</th>\n",
       "      <th></th>\n",
       "      <th></th>\n",
       "      <th></th>\n",
       "      <th></th>\n",
       "      <th></th>\n",
       "      <th></th>\n",
       "      <th></th>\n",
       "      <th></th>\n",
       "      <th></th>\n",
       "    </tr>\n",
       "  </thead>\n",
       "  <tbody>\n",
       "    <tr>\n",
       "      <th>X31</th>\n",
       "      <td>1569</td>\n",
       "      <td>2185</td>\n",
       "      <td>3988</td>\n",
       "      <td>3104</td>\n",
       "      <td>161</td>\n",
       "      <td>394</td>\n",
       "      <td>788</td>\n",
       "      <td>4396</td>\n",
       "      <td>443</td>\n",
       "    </tr>\n",
       "    <tr>\n",
       "      <th>X31</th>\n",
       "      <td>1840</td>\n",
       "      <td>2203</td>\n",
       "      <td>5003</td>\n",
       "      <td>2975</td>\n",
       "      <td>148</td>\n",
       "      <td>613</td>\n",
       "      <td>726</td>\n",
       "      <td>4284</td>\n",
       "      <td>486</td>\n",
       "    </tr>\n",
       "    <tr>\n",
       "      <th>X31</th>\n",
       "      <td>2039</td>\n",
       "      <td>2269</td>\n",
       "      <td>5163</td>\n",
       "      <td>3067</td>\n",
       "      <td>126</td>\n",
       "      <td>689</td>\n",
       "      <td>692</td>\n",
       "      <td>3493</td>\n",
       "      <td>372</td>\n",
       "    </tr>\n",
       "    <tr>\n",
       "      <th>X31</th>\n",
       "      <td>1168</td>\n",
       "      <td>1578</td>\n",
       "      <td>4211</td>\n",
       "      <td>1948</td>\n",
       "      <td>172</td>\n",
       "      <td>568</td>\n",
       "      <td>258</td>\n",
       "      <td>3472</td>\n",
       "      <td>314</td>\n",
       "    </tr>\n",
       "    <tr>\n",
       "      <th>H1</th>\n",
       "      <td>510</td>\n",
       "      <td>892</td>\n",
       "      <td>2609</td>\n",
       "      <td>2874</td>\n",
       "      <td>484</td>\n",
       "      <td>849</td>\n",
       "      <td>1650</td>\n",
       "      <td>2791</td>\n",
       "      <td>1445</td>\n",
       "    </tr>\n",
       "  </tbody>\n",
       "</table>\n",
       "</div>"
      ],
      "text/plain": [
       "         P1    P3    P4    P5   P6   P7    P8   P10   P13\n",
       "virus                                                    \n",
       "X31    1569  2185  3988  3104  161  394   788  4396   443\n",
       "X31    1840  2203  5003  2975  148  613   726  4284   486\n",
       "X31    2039  2269  5163  3067  126  689   692  3493   372\n",
       "X31    1168  1578  4211  1948  172  568   258  3472   314\n",
       "H1      510   892  2609  2874  484  849  1650  2791  1445"
      ]
     },
     "metadata": {},
     "output_type": "display_data"
    }
   ],
   "source": [
    "from IPython.display import display, HTML\n",
    "data_ids = {'2017-05-12_MTP_R1', 'flutype_test' }\n",
    "\n",
    "#--------------------------\n",
    "# data_id = '2017-05-12_MTP_R1'\n",
    "data_id = 'flutype_test'\n",
    "#--------------------------\n",
    "if data_id == '2017-05-12_MTP_R1': \n",
    "    # Microtiter Plate (2017-05-12, 1 plate, 1/3 repeats)\n",
    "    meta = pd.read_csv(\"data/{}.meta\".format(data_id), sep='\\t')\n",
    "    output = pd.read_csv(\"data/{}.csv\".format(data_id), sep=',', index_col=0)\n",
    "    output = output.T\n",
    "    \n",
    "    # todo: this information has to be pulled out from data (in meta information for experiment)\n",
    "    output.index = [\"X31A\",\"X31\",\"X31\",\"X31\",\"Pan\",\"Pan\",\"Pan\",\"Calif\",\"Calif\",\"Calif\",\"empty\",\"empty\"]\n",
    "    \n",
    "elif data_id == \"flutype_test\":\n",
    "    # Microarray (1 plate, 1 measurement)\n",
    "    meta = pd.read_csv(\"data/{}.meta\".format(data_id), sep='\\t')\n",
    "    output = pd.read_csv(\"data/{}.csv\".format(data_id) , sep='\\t')\n",
    "    output.index = output.virus\n",
    "    output = output.drop('virus', 1)\n",
    "    \n",
    "\n",
    "display(meta)\n",
    "display(output.head())"
   ]
  },
  {
   "cell_type": "markdown",
   "metadata": {},
   "source": [
    "## Heatmap of plate/chip"
   ]
  },
  {
   "cell_type": "code",
   "execution_count": 4,
   "metadata": {},
   "outputs": [
    {
     "name": "stderr",
     "output_type": "stream",
     "text": [
      "/home/mkoenig/envs/flutype-analysis/lib/python3.5/site-packages/ipykernel_launcher.py:4: FutureWarning: convert_objects is deprecated.  Use the data-type specific converters pd.to_datetime, pd.to_timedelta and pd.to_numeric.\n",
      "  after removing the cwd from sys.path.\n"
     ]
    },
    {
     "data": {
      "image/png": "[encoded data removed]",
      "text/plain": [
       "<matplotlib.figure.Figure at 0x7f84d42098d0>"
      ]
     },
     "metadata": {},
     "output_type": "display_data"
    }
   ],
   "source": [
    "#heatmap of microwellplate\n",
    "# legend (color bar)\n",
    "\n",
    "data = output.convert_objects(convert_numeric=True)\n",
    "\n",
    "fig = plt.figure(figsize=(20,10))\n",
    "plt.pcolor(data.T,cmap='hot')\n",
    "plt.xticks(np.arange(0.5, len(data.index), 1), output.index)\n",
    "plt.yticks(np.arange(0.5, len(data.columns), 1), data.columns)\n",
    "plt.title(data_id)\n",
    "fig.savefig(\"./results/{}_heatmap.png\".format(data_id))\n",
    "\n",
    "plt.show()\n"
   ]
  },
  {
   "cell_type": "code",
   "execution_count": 5,
   "metadata": {},
   "outputs": [
    {
     "data": {
      "image/png": "[encoded data removed]",
      "text/plain": [
       "<matplotlib.figure.Figure at 0x7f84d3f2f5f8>"
      ]
     },
     "metadata": {},
     "output_type": "display_data"
    }
   ],
   "source": [
    "# overview plot of peptide-virus signal\n",
    "fig = plt.figure(figsize=(20,10))\n",
    "ax2 = plt.subplot(111)\n",
    "ax = ax2.twiny()\n",
    "\n",
    "# for x-axis ticks and labels\n",
    "peptide_ticks_x_axis = []\n",
    "virus_ticks_x_axis = []\n",
    "virus_label_x_axis = []\n",
    "\n",
    "cmap  = plt.get_cmap('jet')\n",
    "Nvirus = len(output.index.unique())\n",
    "spacing = 1.0/Nvirus\n",
    "\n",
    "for index_peptide, peptide in enumerate(output.columns):\n",
    "    for index_virus, virus in enumerate(output.index.unique()):\n",
    "        \n",
    "        #draw vertical dashed line to seperate viruses\n",
    "        plt.axvline(x=[index_peptide + index_virus * spacing + spacing * 0.5 ], linestyle='dashed')\n",
    "        \n",
    "        # add x-tick position and label for virus\n",
    "        virus_ticks_x_axis.append(index_peptide + index_virus * spacing)\n",
    "        virus_label_x_axis.append(virus)\n",
    "        \n",
    "        # select data with current peptide and virus \n",
    "        data = output[peptide].where(output.index==virus)\n",
    "        data = data.dropna(axis=0, how='all')\n",
    "        \n",
    "        # scatter plot (individual data points)\n",
    "        ax.scatter(index_peptide  * np.ones(data.shape) + index_virus * spacing, data, color='k', marker='o')\n",
    "\n",
    "        \n",
    "        # plot  boxplot if more than one datapoint\n",
    "        # what are whiskers?\n",
    "        if len(data) > 1: \n",
    "            data = pd.to_numeric(data)\n",
    "            bp = ax.boxplot(data.values, positions=[index_peptide+index_virus*spacing], \n",
    "                            patch_artist=True, showfliers=False)\n",
    "            plt.setp(bp['boxes'], color=cmap(index_virus / Nvirus), alpha=0.5)\n",
    "            \n",
    "\n",
    "    # add x-tick position and label for peptide    \n",
    "    peptide_ticks_x_axis.append(index_peptide + 0.4)\n",
    "    \n",
    "    #draw vertical line to seperate peptides\n",
    "    plt.axvline(x=index_peptide + 1 - spacing * 0.5 )\n",
    "\n",
    "# setup upper x-axis            \n",
    "plt.xticks(virus_ticks_x_axis,virus_label_x_axis)\n",
    "ax.set_xlim(-0.1 , index_peptide + 1 - spacing * 0.5 )\n",
    "\n",
    "# setup lower x-axis\n",
    "ax2.set_xlim(ax.get_xlim())\n",
    "ax2.set_xticks(peptide_ticks_x_axis)\n",
    "ax2.set_xticklabels([\"peptide \" + str(s) for s in output.columns])\n",
    "\n",
    "ax2.set_ylabel(\"Intensity\")\n",
    "# nicer plot\n",
    "ax.set_title(data_id)\n",
    "fig.savefig(\"./results/{}_barplot.png\".format(data_id))\n",
    "\n",
    "plt.show()"
   ]
  },
  {
   "cell_type": "code",
   "execution_count": 6,
   "metadata": {},
   "outputs": [],
   "source": [
    "def map_strings_to_number(strings):\n",
    "    \"\"\"Transforms list of strings into numbers.\"\"\"\n",
    "    counter = 0\n",
    "    d = {}\n",
    "    numbers = []\n",
    "    for s in strings:\n",
    "        if s in d:\n",
    "            pass\n",
    "        else:\n",
    "            d[s] = counter\n",
    "            counter+=1\n",
    "        numbers.append(d[s])\n",
    "        \n",
    "    return numbers\n",
    "    \n",
    "def discrete_cmap(N, base_cmap=None):\n",
    "    \"\"\"Create an N-bin discrete colormap from the specified input map\"\"\"\n",
    "\n",
    "    # Note that if base_cmap is a String or None, you can simply do\n",
    "    #    return plt.cm.get_cmap(base_cmap, N)\n",
    "    # The following works for String, None, or a colormap instance:\n",
    "    base = plt.cm.get_cmap(base_cmap)\n",
    "    color_list = base(np.linspace(0, 1, N))\n",
    "    cmap_name = base.name + str(N)\n",
    "    return base.from_list(cmap_name, color_list, N)\n"
   ]
  },
  {
   "cell_type": "code",
   "execution_count": 7,
   "metadata": {},
   "outputs": [
    {
     "name": "stdout",
     "output_type": "stream",
     "text": [
      "PCA score for principal components (explained variance):\n",
      " [ 0.754  0.119  0.085  0.018  0.011  0.009  0.003  0.002  0.   ]\n"
     ]
    },
    {
     "ename": "NameError",
     "evalue": "name 'x_train' is not defined",
     "output_type": "error",
     "traceback": [
      "\u001b[0;31m---------------------------------------------------------------------------\u001b[0m",
      "\u001b[0;31mNameError\u001b[0m                                 Traceback (most recent call last)",
      "\u001b[0;32m<ipython-input-7-6587b0955dd4>\u001b[0m in \u001b[0;36m<module>\u001b[0;34m()\u001b[0m\n\u001b[1;32m     15\u001b[0m \u001b[0;34m\u001b[0m\u001b[0m\n\u001b[1;32m     16\u001b[0m \u001b[0mprint\u001b[0m\u001b[0;34m(\u001b[0m\u001b[0;34m\"PCA score for principal components (explained variance):\\n\"\u001b[0m\u001b[0;34m,\u001b[0m \u001b[0mpca_score\u001b[0m\u001b[0;34m.\u001b[0m\u001b[0mround\u001b[0m\u001b[0;34m(\u001b[0m\u001b[0;36m3\u001b[0m\u001b[0;34m)\u001b[0m\u001b[0;34m)\u001b[0m\u001b[0;34m\u001b[0m\u001b[0m\n\u001b[0;32m---> 17\u001b[0;31m \u001b[0mcorr_values\u001b[0m \u001b[0;34m=\u001b[0m \u001b[0mdict\u001b[0m\u001b[0;34m(\u001b[0m\u001b[0mzip\u001b[0m\u001b[0;34m(\u001b[0m\u001b[0mx_train\u001b[0m\u001b[0;34m.\u001b[0m\u001b[0mcolumns\u001b[0m\u001b[0;34m,\u001b[0m \u001b[0mpca_components\u001b[0m\u001b[0;34m[\u001b[0m\u001b[0;36m0\u001b[0m\u001b[0;34m]\u001b[0m\u001b[0;34m)\u001b[0m\u001b[0;34m)\u001b[0m\u001b[0;34m\u001b[0m\u001b[0m\n\u001b[0m\u001b[1;32m     18\u001b[0m \u001b[0mfeature_max_cor\u001b[0m \u001b[0;34m=\u001b[0m \u001b[0mmax\u001b[0m\u001b[0;34m(\u001b[0m\u001b[0mcorr_values\u001b[0m\u001b[0;34m,\u001b[0m \u001b[0mkey\u001b[0m\u001b[0;34m=\u001b[0m\u001b[0mcorr_values\u001b[0m\u001b[0;34m.\u001b[0m\u001b[0mget\u001b[0m\u001b[0;34m)\u001b[0m\u001b[0;34m\u001b[0m\u001b[0m\n\u001b[1;32m     19\u001b[0m \u001b[0mprint\u001b[0m\u001b[0;34m(\u001b[0m\u001b[0;34m\"Feature with max. Variation:\"\u001b[0m\u001b[0;34m,\u001b[0m\u001b[0mfeature_max_cor\u001b[0m \u001b[0;34m)\u001b[0m\u001b[0;34m\u001b[0m\u001b[0m\n",
      "\u001b[0;31mNameError\u001b[0m: name 'x_train' is not defined"
     ]
    }
   ],
   "source": [
    "#build model\n",
    "pca = decomposition.PCA()\n",
    "pca.fit(output)\n",
    "\n",
    "#perform pca\n",
    "pca_score = pca.explained_variance_ratio_ \n",
    "pca_components = pca.components_\n",
    "x_train_pca = pca.transform(output)\n",
    "\n",
    "output_pca = pd.DataFrame(x_train_pca, index=output.index, columns=output.columns)\n",
    "\n",
    "# store color information\n",
    "output_pca.insert(0, \"color\", map_strings_to_number(output.index))\n",
    "output_pca.insert(1, \"virus\", output.index)\n",
    "\n",
    "print(\"PCA score for principal components (explained variance):\\n\", pca_score.round(3))\n",
    "corr_values = dict(zip(x_train.columns, pca_components[0]))\n",
    "feature_max_cor = max(corr_values, key=corr_values.get)\n",
    "print(\"Feature with max. Variation:\",feature_max_cor )\n",
    "print(\"PCA Components in feature space:\", pca_components[0])\n",
    "\n",
    "data = x_train.convert_objects(convert_numeric=True)\n",
    "\n",
    "cor_to_strongest_feature = data[data.columns[:]].corr()[feature_max_cor][:]\n",
    "print(\"\\nThe Correlation of the Features to the Feature with highest Varaiance\")\n",
    "print(cor_to_strongest_feature)\n"
   ]
  },
  {
   "cell_type": "code",
   "execution_count": null,
   "metadata": {},
   "outputs": [],
   "source": [
    "fig = plt.figure(figsize=(20, 10))\n",
    "plt.xlabel(\"princple component 1\")\n",
    "plt.ylabel(\"princple component 2\")\n",
    "\n",
    "plt.scatter(x_train_pca[:, 0], x_train_pca[:, 1], \n",
    "            c=output_pca[\"color\"].values, cmap=discrete_cmap(output_pca[\"color\"].values.max(), 'jet'))\n",
    "\n",
    "cbar = plt.colorbar(ticks=sorted(output_pca[\"color\"].unique()))\n",
    "color_mapping = output_pca[['color','virus']].sort_values(by=[\"color\"])\n",
    "cbar.set_ticklabels(color_mapping['virus'].unique())\n",
    "plt.clim(0.5, output_pca[\"color\"].values.max() + 0.5)\n",
    "\n",
    "plt.show()"
   ]
  },
  {
   "cell_type": "code",
   "execution_count": null,
   "metadata": {
    "collapsed": true
   },
   "outputs": [],
   "source": []
  },
  {
   "cell_type": "code",
   "execution_count": null,
   "metadata": {
    "collapsed": true
   },
   "outputs": [],
   "source": []
  }
 ],
 "metadata": {
  "kernelspec": {
   "display_name": "flutype-analysis",
   "language": "python",
   "name": "flutype-analysis"
  },
  "language_info": {
   "codemirror_mode": {
    "name": "ipython",
    "version": 3
   },
   "file_extension": ".py",
   "mimetype": "text/x-python",
   "name": "python",
   "nbconvert_exporter": "python",
   "pygments_lexer": "ipython3",
   "version": "3.5.2"
  }
 },
 "nbformat": 4,
 "nbformat_minor": 1
}
