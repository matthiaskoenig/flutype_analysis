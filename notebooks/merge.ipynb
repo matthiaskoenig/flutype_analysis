{
 "cells": [
  {
   "cell_type": "code",
   "execution_count": 34,
   "metadata": {},
   "outputs": [],
   "source": [
    "from flutype_analysis import analysis, utils, pca, correlation\n",
    "import pandas as pd\n",
    "import os"
   ]
  },
  {
   "cell_type": "code",
   "execution_count": 45,
   "metadata": {
    "collapsed": true
   },
   "outputs": [],
   "source": [
    "def merge_dataset(data1_id,data1_dir,data2_id, data2_dir, name):\n",
    "    \n",
    "    utils.assure_path_exists(\"../data/\" + name + \"/\")\n",
    "    data1 = utils.load_data(data_id=data1_id, directory=\"../data/\"+data1_dir, what=\"all\")\n",
    "    data2 = utils.load_data(data_id=data2_id, directory=\"../data/\"+data2_dir, what=\"all\")\n",
    "    \n",
    "    ana1 = analysis.Analysis(data1)\n",
    "    ana2 = analysis.Analysis(data2)\n",
    "    \n",
    "    ana1.spot[\"Column\"].max()\n",
    "    rows = []\n",
    "    columns= []\n",
    "    for column in range(ana1.spot[\"Column\"].max()+1,2*ana1.spot[\"Column\"].max()+1):\n",
    "        for row in ana1.spot[\"Row\"].unique():\n",
    "            rows.append(row)\n",
    "            columns.append(column)\n",
    "    ana2.spot.set_value(ana2.spot.index,\"Column\",columns)\n",
    "    ana2.spot.set_value(ana2.spot.index,\"Row\",rows)\n",
    "    \n",
    "    spot = pd.concat([ ana1.spot, ana2.spot], ignore_index=True)\n",
    "\n",
    "    intensity = spot.pivot(index='Row', columns='Column', values='Intensity')\n",
    "    intensity.to_csv(\"../data/\"+name+\"/{}.csv\".format(name),index='Row',sep='\\t')\n",
    "    \n",
    "    peptide= spot[['Row','Column',\"Peptide\"]]\n",
    "    peptide.index.name='ID'\n",
    "    peptide = peptide.rename(columns={\"Peptide\":\"Name\"})\n",
    "    peptide.to_csv(\"../data/\"+name+\"/{}_pep.gal\".format(name),sep='\\t')\n",
    "    \n",
    "    vir= spot[['Row','Column',\"Virus\"]]\n",
    "    vir.index.name='ID'\n",
    "    vir= vir.rename(columns={\"Virus\":\"Name\"})\n",
    "    vir.to_csv(\"../data/\"+name+\"/{}_vir.gal\".format(name),sep='\\t')\n",
    "\n",
    "    \n",
    "    "
   ]
  },
  {
   "cell_type": "code",
   "execution_count": 46,
   "metadata": {
    "collapsed": true
   },
   "outputs": [],
   "source": [
    "data1_id = \"2017-05-19_N11_Cal\"\n",
    "data1_dir = \"2017-05-19_N11_Cal\"\n",
    "data2_id = \"N00010\"\n",
    "data2_dir = \"N00010\"\n",
    "\n"
   ]
  },
  {
   "cell_type": "code",
   "execution_count": 82,
   "metadata": {},
   "outputs": [],
   "source": [
    "dic = {\"2017-05-19_N11_Cal\": \"../data/2017-05-19_N11_Cal\",\n",
    "       \"2017-05-19_N10_Pan\": \"../data/2017-05-19_N10_Pan\",\n",
    "       \"2017-05-19_N9_X31\" : \"../data/2017-05-19_N9_X31\",\n",
    "       \"2017-05-19_E5_X31\" : \"../data/2017-05-19_E5_X31\",\n",
    "       \"2017-05-19_E6_untenliegend_X31\": \"../data/2017-05-19_E6_untenliegend_X31\",\n",
    "       \"2017-05-19_N5_X31\" : \"../data/2017-05-19_N5_X31\",\n",
    "       \"2017-05-19_N6_Pan\" : \"../data/2017-05-19_N6_Pan\"\n",
    "      }"
   ]
  },
  {
   "cell_type": "code",
   "execution_count": 75,
   "metadata": {},
   "outputs": [
    {
     "data": {
      "text/plain": [
       "[('2017-05-19_E6_untenliegend_X31', '../data/2017-05-19_E6_untenliegend_X31'),\n",
       " ('2017-05-19_N6_Pan', ' ../data/2017-05-19_N6_Pan'),\n",
       " ('2017-05-19_N10_Pan', '../data/2017-05-19_N10_Pan'),\n",
       " ('2017-05-19_E5_X31', '../data/2017-05-19_E5_X31'),\n",
       " ('2017-05-19_N5_X31', '../data/2017-05-19_N5_X31'),\n",
       " ('2017-05-19_N9_X31', '../data/2017-05-19_N9_X31'),\n",
       " ('2017-05-19_N11_Cal', '../data/2017-05-19_N11_Cal')]"
      ]
     },
     "execution_count": 75,
     "metadata": {},
     "output_type": "execute_result"
    }
   ],
   "source": [
    "dic.items()"
   ]
  },
  {
   "cell_type": "code",
   "execution_count": 47,
   "metadata": {},
   "outputs": [
    {
     "name": "stdout",
     "output_type": "stream",
     "text": [
      "--------------------------------------------------------------------------------\n",
      "Loading data corresponding to data_id: <2017-05-19_N11_Cal> in dir <../data/2017-05-19_N11_Cal>\n",
      "--------------------------------------------------------------------------------\n",
      "Virus .gal:../data/2017-05-19_N11_Cal/2017-05-19_N11_Cal_vir.gal\n",
      "Peptide .gal :../data/2017-05-19_N11_Cal/2017-05-19_N11_Cal_pep.gal\n",
      "Meta  :../data/2017-05-19_N11_Cal/2017-05-19_N11_Cal.meta\n",
      "Spot intensity file  :../data/2017-05-19_N11_Cal/2017-05-19_N11_Cal.csv\n",
      "Image file  :../data/2017-05-19_N11_Cal/2017-05-19_N11_Cal_600_100_635.tif\n",
      "Spot intensities for the data ID (2017-05-19_N11_Cal) are not averaged but primary values\n",
      "--------------------------------------------------------------------------------\n",
      "Loading data corresponding to data_id: <N00010> in dir <../data/N00010>\n",
      "--------------------------------------------------------------------------------\n",
      "Virus .gal:../data/N00010/N00010_vir.gal\n",
      "Peptide .gal :../data/N00010/N00010_pep.gal\n",
      "Meta  :../data/N00010/N00010.meta\n",
      "Spot intensity file  :../data/N00010/N00010.csv\n",
      "Image file  :../data/N00010/N00010_600_100_635.tif\n",
      "Spot intensities for the data ID (N00010) are not averaged but primary values\n"
     ]
    }
   ],
   "source": [
    "merge_dataset(data1_id,data1_dir, data2_id, data2_dir,name)"
   ]
  },
  {
   "cell_type": "code",
   "execution_count": 76,
   "metadata": {},
   "outputs": [],
   "source": [
    "def merge_dataset1(d, name):\n",
    "    \"\"\"\n",
    "    d : dictiinary with first element id second dir\n",
    "    \"\"\"\n",
    "    \n",
    "    utils.assure_path_exists(\"../data/\" + name + \"/\")\n",
    "    data1 = utils.load_data(data_id=d.items()[0][0] ,directory= dic.items()[0][1], what=\"all\")\n",
    "    ana1 = analysis.Analysis(data1)\n",
    "    \n",
    "    spot= ana1.spot.copy()\n",
    "\n",
    "\n",
    "    for data in dic.items()[1:]:\n",
    "        data2 = utils.load_data(data_id=data[0], directory=data[1], what=\"all\")\n",
    "        ana2 = analysis.Analysis(data2)\n",
    "    \n",
    "        rows = []\n",
    "        columns= []\n",
    "        for column in range(spot[\"Column\"].max()+1,spot[\"Column\"].max()+ana2.spot[\"Column\"].max()+1):\n",
    "            for row in spot[\"Row\"].unique():\n",
    "                rows.append(row)\n",
    "                columns.append(column)\n",
    "        ana2.spot.set_value(ana2.spot.index,\"Column\",columns)\n",
    "        ana2.spot.set_value(ana2.spot.index,\"Row\",rows)\n",
    "\n",
    "        spot = pd.concat([ spot, ana2.spot], ignore_index=True)\n",
    "\n",
    "    intensity = spot.pivot(index='Row', columns='Column', values='Intensity')\n",
    "    intensity.to_csv(\"../data/\"+name+\"/{}.csv\".format(name),index='Row',sep='\\t')\n",
    "\n",
    "    peptide= spot[['Row','Column',\"Peptide\"]]\n",
    "    peptide.index.name='ID'\n",
    "    peptide = peptide.rename(columns={\"Peptide\":\"Name\"})\n",
    "    peptide.to_csv(\"../data/\"+name+\"/{}_pep.gal\".format(name),sep='\\t')\n",
    "\n",
    "    vir= spot[['Row','Column',\"Virus\"]]\n",
    "    vir.index.name='ID'\n",
    "    vir= vir.rename(columns={\"Virus\":\"Name\"})\n",
    "    vir.to_csv(\"../data/\"+name+\"/{}_vir.gal\".format(name),sep='\\t')\n",
    "    \n",
    "    return spot\n"
   ]
  },
  {
   "cell_type": "code",
   "execution_count": 84,
   "metadata": {},
   "outputs": [
    {
     "name": "stdout",
     "output_type": "stream",
     "text": [
      "--------------------------------------------------------------------------------\n",
      "Loading data corresponding to data_id: <2017-05-19_E6_untenliegend_X31> in dir <../data/2017-05-19_E6_untenliegend_X31>\n",
      "--------------------------------------------------------------------------------\n",
      "Virus .gal:../data/2017-05-19_E6_untenliegend_X31/2017-05-19_E6_untenliegend_X31_vir.gal\n",
      "Peptide .gal :../data/2017-05-19_E6_untenliegend_X31/2017-05-19_E6_untenliegend_X31_pep.gal\n",
      "Meta  :../data/2017-05-19_E6_untenliegend_X31/2017-05-19_E6_untenliegend_X31.meta\n",
      "Spot intensity file  :../data/2017-05-19_E6_untenliegend_X31/2017-05-19_E6_untenliegend_X31.csv\n",
      "Image file  :../data/2017-05-19_E6_untenliegend_X31/2017-05-19_E6_untenliegend_X31_600_100_635.tif\n",
      "Spot intensities for the data ID (2017-05-19_E6_untenliegend_X31) are not averaged but primary values\n",
      "--------------------------------------------------------------------------------\n",
      "Loading data corresponding to data_id: <2017-05-19_N6_Pan> in dir <../data/2017-05-19_N6_Pan>\n",
      "--------------------------------------------------------------------------------\n",
      "Virus .gal:../data/2017-05-19_N6_Pan/2017-05-19_N6_Pan_vir.gal\n",
      "Peptide .gal :../data/2017-05-19_N6_Pan/2017-05-19_N6_Pan_pep.gal\n",
      "Meta  :../data/2017-05-19_N6_Pan/2017-05-19_N6_Pan.meta\n",
      "Spot intensity file  :../data/2017-05-19_N6_Pan/2017-05-19_N6_Pan.csv\n",
      "Image file  :../data/2017-05-19_N6_Pan/2017-05-19_N6_Pan_600_100_635.tif\n",
      "Spot intensities for the data ID (2017-05-19_N6_Pan) are not averaged but primary values\n",
      "--------------------------------------------------------------------------------\n",
      "Loading data corresponding to data_id: <2017-05-19_N10_Pan> in dir <../data/2017-05-19_N10_Pan>\n",
      "--------------------------------------------------------------------------------\n",
      "Virus .gal:../data/2017-05-19_N10_Pan/2017-05-19_N10_Pan_vir.gal\n",
      "Peptide .gal :../data/2017-05-19_N10_Pan/2017-05-19_N10_Pan_pep.gal\n",
      "Meta  :../data/2017-05-19_N10_Pan/2017-05-19_N10_Pan.meta\n",
      "Spot intensity file  :../data/2017-05-19_N10_Pan/2017-05-19_N10_Pan.csv\n",
      "Image file  :../data/2017-05-19_N10_Pan/2017-05-19_N10_Pan_600_100_635.tif\n",
      "Spot intensities for the data ID (2017-05-19_N10_Pan) are not averaged but primary values\n",
      "--------------------------------------------------------------------------------\n",
      "Loading data corresponding to data_id: <2017-05-19_E5_X31> in dir <../data/2017-05-19_E5_X31>\n",
      "--------------------------------------------------------------------------------\n",
      "Virus .gal:../data/2017-05-19_E5_X31/2017-05-19_E5_X31_vir.gal\n",
      "Peptide .gal :../data/2017-05-19_E5_X31/2017-05-19_E5_X31_pep.gal\n",
      "Meta  :../data/2017-05-19_E5_X31/2017-05-19_E5_X31.meta\n",
      "Spot intensity file  :../data/2017-05-19_E5_X31/2017-05-19_E5_X31.csv\n",
      "Image file  :../data/2017-05-19_E5_X31/2017-05-19_E5_X31_600_100_635.tif\n",
      "Spot intensities for the data ID (2017-05-19_E5_X31) are not averaged but primary values\n",
      "--------------------------------------------------------------------------------\n",
      "Loading data corresponding to data_id: <2017-05-19_N5_X31> in dir <../data/2017-05-19_N5_X31>\n",
      "--------------------------------------------------------------------------------\n",
      "Virus .gal:../data/2017-05-19_N5_X31/2017-05-19_N5_X31_vir.gal\n",
      "Peptide .gal :../data/2017-05-19_N5_X31/2017-05-19_N5_X31_pep.gal\n",
      "Meta  :../data/2017-05-19_N5_X31/2017-05-19_N5_X31.meta\n",
      "Spot intensity file  :../data/2017-05-19_N5_X31/2017-05-19_N5_X31.csv\n",
      "Image file  :../data/2017-05-19_N5_X31/2017-05-19_N5_X31_600_100_635.tif\n",
      "Spot intensities for the data ID (2017-05-19_N5_X31) are not averaged but primary values\n",
      "--------------------------------------------------------------------------------\n",
      "Loading data corresponding to data_id: <2017-05-19_N9_X31> in dir <../data/2017-05-19_N9_X31>\n",
      "--------------------------------------------------------------------------------\n",
      "Virus .gal:../data/2017-05-19_N9_X31/2017-05-19_N9_X31_vir.gal\n",
      "Peptide .gal :../data/2017-05-19_N9_X31/2017-05-19_N9_X31_pep.gal\n",
      "Meta  :../data/2017-05-19_N9_X31/2017-05-19_N9_X31.meta\n",
      "Spot intensity file  :../data/2017-05-19_N9_X31/2017-05-19_N9_X31.csv\n",
      "Image file  :../data/2017-05-19_N9_X31/2017-05-19_N9_X31_600_100_635.tif\n",
      "Spot intensities for the data ID (2017-05-19_N9_X31) are not averaged but primary values\n",
      "--------------------------------------------------------------------------------\n",
      "Loading data corresponding to data_id: <2017-05-19_N11_Cal> in dir <../data/2017-05-19_N11_Cal>\n",
      "--------------------------------------------------------------------------------\n",
      "Virus .gal:../data/2017-05-19_N11_Cal/2017-05-19_N11_Cal_vir.gal\n",
      "Peptide .gal :../data/2017-05-19_N11_Cal/2017-05-19_N11_Cal_pep.gal\n",
      "Meta  :../data/2017-05-19_N11_Cal/2017-05-19_N11_Cal.meta\n",
      "Spot intensity file  :../data/2017-05-19_N11_Cal/2017-05-19_N11_Cal.csv\n",
      "Image file  :../data/2017-05-19_N11_Cal/2017-05-19_N11_Cal_600_100_635.tif\n",
      "Spot intensities for the data ID (2017-05-19_N11_Cal) are not averaged but primary values\n"
     ]
    }
   ],
   "source": [
    "spot= merge_dataset1(dic,\"N9_N10_N11_E5_E6_N5_N6\")\n"
   ]
  },
  {
   "cell_type": "code",
   "execution_count": null,
   "metadata": {
    "collapsed": true
   },
   "outputs": [],
   "source": []
  }
 ],
 "metadata": {
  "kernelspec": {
   "display_name": "flutype_analysis",
   "language": "python",
   "name": "flutype_analysis"
  },
  "language_info": {
   "codemirror_mode": {
    "name": "ipython",
    "version": 2
   },
   "file_extension": ".py",
   "mimetype": "text/x-python",
   "name": "python",
   "nbconvert_exporter": "python",
   "pygments_lexer": "ipython2",
   "version": "2.7.12"
  }
 },
 "nbformat": 4,
 "nbformat_minor": 2
}
