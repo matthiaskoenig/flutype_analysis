{
 "cells": [
  {
   "cell_type": "markdown",
   "metadata": {},
   "source": [
    "# Transform image of array to digital values \n",
    "\n",
    "\n",
    "This notebook provides:\n",
    "        - search for spots on array\n",
    "        - mapping images postions peptides to peptides informations\n",
    "        - extracting intensities of spots and mapping to coresponding spots\n",
    "        - writing gal-file for further analysis with analysis script \n",
    "        \n"
   ]
  },
  {
   "cell_type": "code",
   "execution_count": 1,
   "metadata": {},
   "outputs": [],
   "source": [
    "import numpy as np\n",
    "import pandas as pd\n",
    "import math\n",
    "import cv2\n",
    "import argparse\n",
    "import imutils\n",
    "import os\n",
    "\n",
    "import matplotlib.pyplot as plt\n",
    "import matplotlib.cm as cm\n",
    "import matplotlib.patches as patches\n",
    "import matplotlib.colors as colors\n",
    "import matplotlib.image as mpimg\n",
    "\n",
    "from sklearn import decomposition\n",
    "from sklearn.preprocessing import normalize\n",
    "from sklearn.metrics import mean_squared_error\n",
    "from sklearn.neighbors import NearestNeighbors\n",
    "\n",
    "\n",
    "\n",
    "from skimage import data, io, filters,measure\n",
    "from skimage.feature import match_template \n",
    "\n",
    "import scipy\n",
    "from scipy.ndimage.interpolation import shift\n",
    "from scipy import ndimage,spatial\n",
    "from scipy.optimize import leastsq, minimize\n",
    "import scipy.ndimage.filters as filters\n",
    "\n",
    "\n",
    "\n",
    "from IPython.display import display, HTML\n",
    "from PIL import Image\n",
    "import PIL.ImageOps \n",
    "from imutils import contours\n",
    "\n",
    "from  flutype_analysis import image2numeric, utils\n",
    "\n"
   ]
  },
  {
   "cell_type": "markdown",
   "metadata": {},
   "source": [
    "## define help functions"
   ]
  },
  {
   "cell_type": "code",
   "execution_count": null,
   "metadata": {
    "collapsed": true
   },
   "outputs": [],
   "source": [
    "\n",
    "\n",
    "\n",
    "    "
   ]
  },
  {
   "cell_type": "code",
   "execution_count": null,
   "metadata": {
    "collapsed": true
   },
   "outputs": [],
   "source": []
  },
  {
   "cell_type": "markdown",
   "metadata": {},
   "source": [
    "## Load data\n",
    "    -Load galfile of peptides\n",
    "    -Load images after spotting but before incubation with virus\n",
    "    -Load images after incubation with virus"
   ]
  },
  {
   "cell_type": "code",
   "execution_count": 2,
   "metadata": {},
   "outputs": [
    {
     "ename": "NameError",
     "evalue": "name 'pep_cor' is not defined",
     "output_type": "error",
     "traceback": [
      "\u001b[0;31m---------------------------------------------------------------------------\u001b[0m",
      "\u001b[0;31mNameError\u001b[0m                                 Traceback (most recent call last)",
      "\u001b[0;32m<ipython-input-2-e06e17ead154>\u001b[0m in \u001b[0;36m<module>\u001b[0;34m()\u001b[0m\n\u001b[1;32m     24\u001b[0m                 \u001b[0mpep_cor\u001b[0m \u001b[0;34m=\u001b[0m \u001b[0mpep\u001b[0m\u001b[0;34m.\u001b[0m\u001b[0mpivot\u001b[0m\u001b[0;34m(\u001b[0m\u001b[0mindex\u001b[0m\u001b[0;34m=\u001b[0m\u001b[0;34m\"Row\"\u001b[0m\u001b[0;34m,\u001b[0m \u001b[0mcolumns\u001b[0m\u001b[0;34m=\u001b[0m\u001b[0;34m\"Column\"\u001b[0m\u001b[0;34m,\u001b[0m \u001b[0mvalues\u001b[0m\u001b[0;34m=\u001b[0m\u001b[0;34m\"Name\"\u001b[0m\u001b[0;34m)\u001b[0m\u001b[0;34m\u001b[0m\u001b[0m\n\u001b[1;32m     25\u001b[0m \u001b[0;31m# unstack peptide coordinates data\u001b[0m\u001b[0;34m\u001b[0m\u001b[0;34m\u001b[0m\u001b[0m\n\u001b[0;32m---> 26\u001b[0;31m \u001b[0mpep_cor_unstacked\u001b[0m\u001b[0;34m=\u001b[0m\u001b[0mpep_cor\u001b[0m\u001b[0;34m.\u001b[0m\u001b[0munstack\u001b[0m\u001b[0;34m(\u001b[0m\u001b[0;34m)\u001b[0m\u001b[0;34m\u001b[0m\u001b[0m\n\u001b[0m\u001b[1;32m     27\u001b[0m \u001b[0;31m# only fluorecent data\u001b[0m\u001b[0;34m\u001b[0m\u001b[0;34m\u001b[0m\u001b[0m\n\u001b[1;32m     28\u001b[0m \u001b[0mleuchtefix\u001b[0m\u001b[0;34m=\u001b[0m\u001b[0mpep_cor_unstacked\u001b[0m\u001b[0;34m.\u001b[0m\u001b[0mstr\u001b[0m\u001b[0;34m.\u001b[0m\u001b[0mcontains\u001b[0m\u001b[0;34m(\u001b[0m\u001b[0;34m\"Leuchte\"\u001b[0m\u001b[0;34m)\u001b[0m\u001b[0;34m\u001b[0m\u001b[0m\n",
      "\u001b[0;31mNameError\u001b[0m: name 'pep_cor' is not defined"
     ]
    }
   ],
   "source": [
    "\n",
    "data_ids = {'N10'}\n",
    "#--------------------------\n",
    "#data_id = 'E5'\n",
    "data_id = 'N10'\n",
    "#--------------------------\n",
    "if any(data_id == d_id for d_id in ['N10', 'E5' ]):\n",
    "    #load raw data\n",
    "    \n",
    "    #pep= pd.read_csv(\"data/{}_pep.gal\".format(data_id), sep='\\t',index_col=\"ID\")\n",
    "    for fname in os.listdir('data/'):    # change directory as needed\n",
    "        if os.path.isfile('data/{}'.format(fname)):# make sure it's a file, not a directory entry\n",
    "            #print(fname)\n",
    "            if \"{}_600_100_635.tif\".format(data_id) in fname:    # search for string\n",
    "                print(fname)\n",
    "                \n",
    "                im =  cv2.imreadmulti(\"data/{}\".format(fname), 0)\n",
    "            elif \"{}_after_600_100_635.tif\".format(data_id) in fname:    # search for string\n",
    "                print(fname)\n",
    "                imafter =  cv2.imreadmulti(\"data/{}\".format(fname), 0)\n",
    "            elif \"{}_pep.gal\".format(data_id) in fname:\n",
    "                print(fname)\n",
    "                pep = pd.read_csv(\"data/{}\".format(fname), sep='\\t',index_col=\"ID\")\n",
    "                pep_cor = pep.pivot(index=\"Row\", columns=\"Column\", values=\"Name\")    \n",
    "# unstack peptide coordinates data\n",
    "pep_cor_unstacked=pep_cor.unstack()\n",
    "# only fluorecent data\n",
    "leuchtefix=pep_cor_unstacked.str.contains(\"Leuchte\")\n",
    "\n",
    "\n",
    "    \n"
   ]
  },
  {
   "cell_type": "code",
   "execution_count": null,
   "metadata": {
    "collapsed": true
   },
   "outputs": [],
   "source": [
    "def estimate_grid(points,Peptides):\n",
    "    # estimated pitch on image\n",
    "    pitch=(points[:,0].max()-points[:,0].min())/(Peptides[\"Column\"].iloc[nonzero_ids].max()-Peptides[\"Column\"].iloc[nonzero_ids].min())\n",
    "    #estimated center x on image\n",
    "    center_x=points[:,0].min()+0.5*(points[:,0].max()-points[:,0].min())\n",
    "    #estimated center y on image\n",
    "    center_y=points[:,1].min()+0.5*(points[:,1].max()-points[:,1].min())\n",
    "    #gridshape\n",
    "    gridshape=(Peptides[\"Row\"].max(),Peptides[\"Column\"].max())\n",
    "    return pitch, center_x, center_y, gridshape"
   ]
  },
  {
   "cell_type": "code",
   "execution_count": 1,
   "metadata": {},
   "outputs": [
    {
     "ename": "NameError",
     "evalue": "name 'os' is not defined",
     "output_type": "error",
     "traceback": [
      "\u001b[0;31m---------------------------------------------------------------------------\u001b[0m",
      "\u001b[0;31mNameError\u001b[0m                                 Traceback (most recent call last)",
      "\u001b[0;32m<ipython-input-1-a94ec0593214>\u001b[0m in \u001b[0;36m<module>\u001b[0;34m()\u001b[0m\n\u001b[1;32m      1\u001b[0m \u001b[0mdata_id\u001b[0m\u001b[0;34m=\u001b[0m\u001b[0;34m\"2017-05-19_E5_X31\"\u001b[0m\u001b[0;34m\u001b[0m\u001b[0m\n\u001b[0;32m----> 2\u001b[0;31m \u001b[0mdirectory\u001b[0m \u001b[0;34m=\u001b[0m \u001b[0mos\u001b[0m\u001b[0;34m.\u001b[0m\u001b[0mpath\u001b[0m\u001b[0;34m.\u001b[0m\u001b[0mjoin\u001b[0m\u001b[0;34m(\u001b[0m\u001b[0;34m\"../data\"\u001b[0m\u001b[0;34m,\u001b[0m\u001b[0mdata_id\u001b[0m\u001b[0;34m)\u001b[0m\u001b[0;34m\u001b[0m\u001b[0m\n\u001b[0m\u001b[1;32m      3\u001b[0m \u001b[0mdata\u001b[0m \u001b[0;34m=\u001b[0m \u001b[0mutils\u001b[0m\u001b[0;34m.\u001b[0m\u001b[0mload_data\u001b[0m\u001b[0;34m(\u001b[0m\u001b[0mdata_id\u001b[0m\u001b[0;34m,\u001b[0m\u001b[0mdirectory\u001b[0m\u001b[0;34m,\u001b[0m\u001b[0mwhat\u001b[0m\u001b[0;34m=\u001b[0m\u001b[0;34m\"image2numeric\"\u001b[0m\u001b[0;34m)\u001b[0m\u001b[0;34m\u001b[0m\u001b[0m\n\u001b[1;32m      4\u001b[0m \u001b[0mana\u001b[0m\u001b[0;34m=\u001b[0m\u001b[0manalysis\u001b[0m\u001b[0;34m.\u001b[0m\u001b[0mAnalysis\u001b[0m\u001b[0;34m(\u001b[0m\u001b[0mdata\u001b[0m\u001b[0;34m)\u001b[0m\u001b[0;34m\u001b[0m\u001b[0m\n",
      "\u001b[0;31mNameError\u001b[0m: name 'os' is not defined"
     ]
    }
   ],
   "source": [
    "data_id=\"2017-05-19_E5_X31\" \n",
    "directory = os.path.join(\"../data\",data_id)\n",
    "data = utils.load_data(data_id,directory,what=\"image2numeric\")\n",
    "ana=analysis.Analysis(data)\n"
   ]
  },
  {
   "cell_type": "code",
   "execution_count": null,
   "metadata": {
    "collapsed": true
   },
   "outputs": [],
   "source": [
    "\n",
    "draw_imag(im,\"before incubation\")\n",
    "draw_imag(imafter,\"after incubation\")"
   ]
  },
  {
   "cell_type": "code",
   "execution_count": null,
   "metadata": {
    "collapsed": true
   },
   "outputs": [],
   "source": []
  },
  {
   "cell_type": "markdown",
   "metadata": {},
   "source": [
    "# Define functions for Spot detection:"
   ]
  },
  {
   "cell_type": "code",
   "execution_count": null,
   "metadata": {
    "collapsed": true
   },
   "outputs": [],
   "source": [
    "\n",
    "    \n",
    "    "
   ]
  },
  {
   "cell_type": "code",
   "execution_count": null,
   "metadata": {
    "collapsed": true
   },
   "outputs": [],
   "source": [
    "circles=detect_circles(im)\n",
    "draw_circles(im,circles)"
   ]
  },
  {
   "cell_type": "markdown",
   "metadata": {},
   "source": [
    "## Maps spot positions in image to peptide in gal file\n",
    "\n"
   ]
  },
  {
   "cell_type": "code",
   "execution_count": null,
   "metadata": {
    "collapsed": true
   },
   "outputs": [],
   "source": [
    "# create a new Dataframe with x and y coordinates of peptides\n",
    "Peptides=pd.DataFrame(pep_cor_unstacked.values,columns=[\"Peptides\"])\n",
    "Peptides[\"Column\"]=leuchtefix.index.get_level_values(0).values\n",
    "Peptides[\"Row\"]=leuchtefix.index.get_level_values(1).values\n",
    "Peptides[\"x\"]=0\n",
    "Peptides[\"y\"]=0\n",
    "\n",
    "display(Peptides.head())\n",
    "\n",
    "# generate a new data frame with x and y coordinates of spots detected by previous algorithm\n",
    "spot_position = pd.DataFrame(circles[0,:,0:2], columns=[\"x\",\"y\"])\n",
    "display(spot_position)\n",
    "\n",
    "# display all spots containing Leuchtefix\n",
    "nonzero_ids=leuchtefix.nonzero() # ids of spots in gal file containing Leuchtefix\n",
    "display(Peptides.iloc[nonzero_ids])"
   ]
  },
  {
   "cell_type": "markdown",
   "metadata": {},
   "source": [
    "### find grid on image & map leuchtefix position on image to galfile \n"
   ]
  },
  {
   "cell_type": "code",
   "execution_count": null,
   "metadata": {
    "collapsed": true
   },
   "outputs": [],
   "source": [
    "\n"
   ]
  },
  {
   "cell_type": "code",
   "execution_count": null,
   "metadata": {
    "collapsed": true
   },
   "outputs": [],
   "source": [
    "\n",
    "# estimated pitch on image\n",
    "pitch=(spot_position[\"x\"].max()-spot_position[\"x\"].min())/(Peptides[\"Column\"].iloc[nonzero_ids].max()-Peptides[\"Column\"].iloc[nonzero_ids].min())\n",
    "#estimated center x on image\n",
    "center_x=spot_position[\"x\"].min()+0.5*(spot_position[\"x\"].max()-spot_position[\"x\"].min())\n",
    "#estimated center y on image \n",
    "center_y=spot_position[\"y\"].min()+0.5*(spot_position[\"y\"].max()-spot_position[\"y\"].min())\n",
    "#gridshape\n",
    "gridshape=(Peptides[\"Row\"].max(),Peptides[\"Column\"].max())\n",
    "\n",
    "\n",
    "\n",
    "\n",
    "\n",
    "#optimzes grid parameters by minimizing error function:\n",
    "best_arg=minimize(err_func, x0=(pitch, center_x, center_y, 0), args=(spot_position[\"x\"].values,spot_position[\"y\"].values,gridshape))\n",
    "X,Y=get_grid(gridshape,pitch=best_arg.x[0],center_x=best_arg.x[1],center_y=best_arg.x[2],rotation=best_arg.x[3])\n",
    "\n",
    "#draw the grid on image\n",
    "draw_grid(im.T,Y,X,\"optimzed Grid\")\n"
   ]
  },
  {
   "cell_type": "markdown",
   "metadata": {},
   "source": [
    "## Map leuchtefix positions to gal file"
   ]
  },
  {
   "cell_type": "code",
   "execution_count": null,
   "metadata": {
    "collapsed": true
   },
   "outputs": [],
   "source": [
    "_, _ , leuchtefix_indexes_on_grid=get_nearest_on_grid(X,Y,spot_position[\"x\"].values,spot_position[\"y\"].values)\n",
    "\n",
    "for index,grid_index in enumerate(leuchtefix_indexes_on_grid):\n",
    "    Peptides['x'].iloc[grid_index]=spot_position[\"x\"][index]\n",
    "    Peptides['y'].iloc[grid_index]=spot_position[\"y\"][index]\n",
    "    \n",
    "display(Peptides.iloc[nonzero_ids])  \n",
    "draw_grid(-im.T,Peptides[\"y\"].iloc[nonzero_ids],Peptides[\"x\"].iloc[nonzero_ids],\"check if maping Leuchtefix to gal file worked:\")\n",
    "\n",
    "\n",
    "\n",
    "#draw_imag(inverte(imafter.T),\"inverted image\", cmap=\"gray\")\n",
    "\n",
    "gray = imafter.T\n",
    "\n",
    "kernel = np.ones((3,3),np.uint8)\n",
    "opening = cv2.morphologyEx(gray,cv2.MORPH_OPEN,kernel, iterations = 2)\n",
    "\n",
    "draw_imag(gray,\"inverted\",cmap=\"gray\")\n",
    "draw_imag(opening,\"noise removal\",cmap=\"gray\")\n",
    "# sure background area\n",
    "sure_bg = cv2.dilate(opening,kernel,iterations=3)\n",
    "draw_imag(sure_bg,\"noise removal\",cmap=\"gray\")\n",
    "# Finding sure foreground area\n",
    "dist_transform = cv2.distanceTransform(opening,cv2.DIST_L2,5)\n",
    "ret, sure_fg = cv2.threshold(dist_transform,0.7*dist_transform.max(),255,0)\n",
    "draw_imag(sure_fg,\"noise removal\",cmap=\"gray\")\n",
    "#unknown = cv2.subtract(sure_bg,sure_fg)\n",
    "\n",
    "ret, markers = cv2.connectedComponents(sure_bg)\n",
    "\n",
    "# Add one to all labels so that sure background is not 0, but 1\n",
    "draw_imag(markers,\"markers\")\n"
   ]
  },
  {
   "cell_type": "code",
   "execution_count": null,
   "metadata": {
    "collapsed": true
   },
   "outputs": [],
   "source": [
    "# show ratio of shape of images:\n",
    "ratio = (im.shape[0]/imafter.shape[0],im.shape[1]/imafter.shape[1])\n",
    "print(ratio)\n",
    "\n",
    "points_x = []\n",
    "points_y = []\n",
    "for marker in range(markers.max()):\n",
    "    point= np.array(np.where(markers == marker))\n",
    "    points_x.append(point[0].mean())\n",
    "    points_y.append(point[1].mean())\n",
    "\n",
    "    \n",
    "#draw_grid(imafter.T,points_y,points_x,\"scatter\")\n",
    "\n",
    "\n",
    "\n",
    "xy_grid=np.vstack([X/ratio[0]+3,Y/ratio[0]-25]).reshape(2,-1).T\n",
    "Peptides['x'] = xy_grid[:,0]\n",
    "Peptides['y'] = xy_grid[:,1]\n",
    "blank=pep_cor_unstacked.str.contains(\"blank\")\n",
    "blank_ids=blank.nonzero()\n",
    "Peptides['x'].iloc[blank_ids] = float('nan')\n",
    "Peptides['y'].iloc[blank_ids] = float('nan')\n",
    "\n",
    "\n",
    "\n",
    "    \n",
    "new_points =[]\n",
    "pts=np.vstack([points_x,points_y]).reshape(2,-1).T\n",
    "T = spatial.KDTree(xy_grid)\n",
    "idx = T.query_ball_point(pts,r=50)\n",
    "points_new= []\n",
    "#print(len(idx))\n",
    "#print(len(pts))\n",
    "for index,i in enumerate(idx):\n",
    "    if len(i) > 0:\n",
    "        points_new.append(pts[index])\n",
    "points_new = np.array(points_new)\n",
    "#print(len(points_new))\n",
    "#print(Peptides['x'].value_counts(dropna=False))\n",
    "fig, ax = plt.subplots(figsize=(30,10))\n",
    "plt.scatter(Peptides['y'],Peptides['x'])\n",
    "plt.scatter(points_new[:,1],points_new[:,0])\n",
    "plt.imshow(markers)\n",
    "plt.show()\n",
    "\n",
    "\n"
   ]
  },
  {
   "cell_type": "code",
   "execution_count": null,
   "metadata": {
    "collapsed": true
   },
   "outputs": [],
   "source": [
    "import matplotlib.colors as colors\n",
    "import matplotlib.cm as cmx\n",
    "\n",
    "finite = np.isfinite(Peptides['x'])\n",
    "pts=np.vstack([Peptides[finite]['x'],Peptides[finite]['y']]).reshape(2,-1).T\n",
    "print(len(points_new))\n",
    "nearest = nearest_neighbour(points_new, pts)\n",
    "print(len(nearest))\n",
    "\n",
    "\n",
    "jet = cm = plt.get_cmap('flag') \n",
    "cNorm  = colors.Normalize(vmin=0, vmax=len(nearest))\n",
    "scalarMap = cmx.ScalarMappable(norm=cNorm, cmap=jet)\n",
    "\n",
    "\n",
    "\n",
    "fig, ax = plt.subplots(figsize=(30,10))\n",
    "for i_points_new,i in enumerate(nearest):\n",
    "    colorVal = scalarMap.to_rgba(i_points_new)\n",
    "    plt.scatter(pts[i,1],pts[i,0],color=colorVal)\n",
    "    plt.scatter(points_new[i_points_new,1],points_new[i_points_new,0], color=colorVal)\n",
    "plt.imshow(markers)\n",
    "\n",
    "\n",
    "plt.show()\n",
    "\n"
   ]
  },
  {
   "cell_type": "code",
   "execution_count": null,
   "metadata": {
    "collapsed": true
   },
   "outputs": [],
   "source": []
  },
  {
   "cell_type": "code",
   "execution_count": null,
   "metadata": {
    "collapsed": true
   },
   "outputs": [],
   "source": [
    "pitch, center_x, center_y, gridshape = estimate_grid(points_new,Peptides)\n",
    "best_arg=minimize(err_func, x0=(pitch, center_x, center_y, 0), args=(points_new[:,0],points_new[:,1],gridshape))\n",
    "X,Y=get_grid(gridshape,pitch=best_arg.x[0],center_x=best_arg.x[1],center_y=best_arg.x[2],rotation=best_arg.x[3])\n",
    "pts=np.vstack([X,Y]).reshape(2,-1).T\n",
    "\n",
    "\n",
    "print(finite.nonzero())\n",
    "#draw the grid on image\n",
    "fig, ax = plt.subplots(figsize=(30,10))\n",
    "\n",
    "plt.scatter(points_new[:,1],points_new[:,0])\n",
    "plt.scatter(pts[finite.nonzero(),1],pts[finite.nonzero(),0],marker=\"+\")\n",
    "plt.imshow(markers)\n",
    "plt.show()\n",
    "\n",
    "\n"
   ]
  },
  {
   "cell_type": "code",
   "execution_count": null,
   "metadata": {
    "collapsed": true
   },
   "outputs": [],
   "source": [
    "fig2 = plt.figure(figsize=(30,10))\n",
    "ax2 = fig2.add_subplot(111, aspect='equal')\n",
    "\n",
    "for p in [\n",
    "    patches.Rectangle(\n",
    "        (patchcenter[1]-0.5*pitch, patchcenter[0]-0.5*pitch),\n",
    "        pitch,\n",
    "        pitch,\n",
    "        fill=False,      # remove background\n",
    "        linewidth=1,\n",
    "        edgecolor='r'\n",
    "    ) for patchcenter in pts[finite.nonzero()]\n",
    "]:\n",
    "    ax2.add_patch(p)\n",
    "plt.imshow(markers)\n",
    "plt.show()"
   ]
  },
  {
   "cell_type": "code",
   "execution_count": null,
   "metadata": {
    "collapsed": true
   },
   "outputs": [],
   "source": [
    "\n",
    "\n",
    "#display(Peptides)\n",
    "\n",
    "#draw_grid(markers, Peptides[finite][~nonzero_ids][\"y\"],Peptides[finite][~nonzero_ids][\"x\"],\"test\")\n",
    "\n",
    "Peptides[\"x\"].iloc[Peptides[~leuchtefix.values][finite].index] =pts[Peptides[~leuchtefix.values][finite].index][:,0]\n",
    "Peptides[\"y\"].iloc[Peptides[~leuchtefix.values][finite].index]=pts[Peptides[~leuchtefix.values][finite].index][:,1]\n",
    "\n",
    "#draw_grid(markers, Peptides[finite][~nonzero_ids][\"y\"],Peptides[finite][~nonzero_ids][\"x\"],\"test\")\n",
    "draw_grid(markers, Peptides[\"y\"],Peptides[\"x\"],\"test\")\n",
    "\n",
    "\n"
   ]
  },
  {
   "cell_type": "code",
   "execution_count": null,
   "metadata": {
    "collapsed": true
   },
   "outputs": [],
   "source": [
    "fig2 = plt.figure(figsize=(30,10))\n",
    "ax2 = fig2.add_subplot(111, aspect='equal')\n",
    "\n",
    "for p in [\n",
    "    patches.Rectangle(\n",
    "        (patchcenter_y-0.5*pitch, patchcenter_x-0.5*pitch),\n",
    "        pitch,\n",
    "        pitch,\n",
    "        fill=False,      # remove background\n",
    "        linewidth=1,\n",
    "        edgecolor='r'\n",
    "    ) for patchcenter_x, patchcenter_y in zip(Peptides[finite][\"x\"],Peptides[finite][\"y\"] )]:\n",
    "    ax2.add_patch(p)\n",
    "plt.imshow(markers)\n",
    "plt.show()"
   ]
  },
  {
   "cell_type": "markdown",
   "metadata": {},
   "source": [
    "## change grid position by hand to match image after incubation:"
   ]
  },
  {
   "cell_type": "code",
   "execution_count": null,
   "metadata": {
    "collapsed": true,
    "scrolled": false
   },
   "outputs": [],
   "source": [
    "\n",
    "\n",
    "if ratio[0] == ratio[1]:\n",
    "    #scale position of spots:\n",
    "    circles_new = circles/ratio[0]\n",
    "    #changes position of spots\n",
    "    circles_new[0,:,1] = circles_new[0,:,1]-25\n",
    "    circles_new[0,:,0] = circles_new[0,:,0]+3\n",
    "    \n",
    "    Y_after=  Y/ratio[0]-25\n",
    "\n",
    "    draw_grid(markers,Y/ratio[0]-25,X/ratio[0]+3,\"check alignment of pictures\")\n",
    "    draw_imag(im.T,\"inverted\", cmap=\"gray\")\n",
    "    draw_imag(imafter.T,\"orginal\", cmap=\"gray\")\n",
    "    \n",
    "\n",
    "    display(pep_cor.T,\"small\")\n",
    "else:\n",
    "    print(\"sizes of images before incubation and after incubation do not match (not possible to scale x and y axis with same factor\" )\n"
   ]
  },
  {
   "cell_type": "markdown",
   "metadata": {},
   "source": [
    "# Problems:\n",
    "- different resolutions for different images.(todo: standard protokol peptide arrays, same resolution, same gain, same oriantation)\n",
    "- different intensities before and after washing.\n",
    "- not a regular grid (spotter? solution maybe : industial\n",
    "\n",
    "\n",
    "# Questions:\n",
    "- what is the spotting order?\n",
    "- AK klumpt und fluoreszenz istvorhanden (bevor virus). Ist Antikörper schon mit Virus verschmutz?\n",
    "- Wie AK an Mikroarray befestigt?"
   ]
  },
  {
   "cell_type": "code",
   "execution_count": null,
   "metadata": {
    "collapsed": true
   },
   "outputs": [],
   "source": [
    "display(Peptides)"
   ]
  },
  {
   "cell_type": "markdown",
   "metadata": {},
   "source": [
    "## calculate spot intensities\n"
   ]
  },
  {
   "cell_type": "code",
   "execution_count": null,
   "metadata": {
    "collapsed": true
   },
   "outputs": [],
   "source": [
    "Peptides[\"Intensity\"]=0\n",
    "\n",
    "for index in Peptides.index:\n",
    "\n",
    "    if not math.isnan(Peptides.loc[index]['x']):\n",
    "        x_min = int(Peptides.loc[index]['x']-0.5*pitch)\n",
    "        x_max = int(Peptides.loc[index]['x']+0.5*pitch)\n",
    "        y_min = int(Peptides.loc[index]['y']-0.5*pitch)\n",
    "        y_max = int(Peptides.loc[index]['y']+0.5*pitch)\n",
    "        intensity=imafter[y_min:y_max,x_min:x_max].sum()\n",
    "        Peptides.set_value(index,\"Intensity\",intensity)\n",
    "        \n",
    "   \n",
    "\n",
    "    "
   ]
  },
  {
   "cell_type": "markdown",
   "metadata": {},
   "source": [
    "## generate csv file as readeroutput for intensity analysis"
   ]
  },
  {
   "cell_type": "code",
   "execution_count": null,
   "metadata": {
    "collapsed": true
   },
   "outputs": [],
   "source": [
    "output=Peptides.pivot(index=\"Row\", columns=\"Column\", values=\"Intensity\")\n",
    "output.to_csv('data/{}.csv'.format(data_id), sep='\\t')"
   ]
  },
  {
   "cell_type": "code",
   "execution_count": null,
   "metadata": {
    "collapsed": true
   },
   "outputs": [],
   "source": []
  }
 ],
 "metadata": {
  "kernelspec": {
   "display_name": "flutype_analysis",
   "language": "python",
   "name": "flutype_analysis"
  },
  "language_info": {
   "codemirror_mode": {
    "name": "ipython",
    "version": 2
   },
   "file_extension": ".py",
   "mimetype": "text/x-python",
   "name": "python",
   "nbconvert_exporter": "python",
   "pygments_lexer": "ipython2",
   "version": "2.7.12"
  }
 },
 "nbformat": 4,
 "nbformat_minor": 2
}
