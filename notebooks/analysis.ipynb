{
 "cells": [
  {
   "cell_type": "markdown",
   "metadata": {},
   "source": [
    "# Analysis of Microarray & Microtiter plates\n",
    "Analysis of peptide-virus binding signals.\n",
    "\n",
    "This notebook provides simple visualisation and analysis functions to work with experimental data sets from the FluType project."
   ]
  },
  {
   "cell_type": "code",
   "execution_count": 16,
   "metadata": {
    "collapsed": true
   },
   "outputs": [],
   "source": [
    "import matplotlib.pyplot as plt\n",
    "from IPython.display import display, HTML\n",
    "from weasyprint import HTML as HTML1\n",
    "from flutype_analysis import analysis, utils, pca, correlation"
   ]
  },
  {
   "cell_type": "code",
   "execution_count": 17,
   "metadata": {
    "collapsed": true
   },
   "outputs": [],
   "source": [
    "data_ids = {'2017-05-12_MTP_R1',\n",
    "            '2017-05-12_MTP_R1_div_back',\n",
    "            'flutype_test',\n",
    "            '2017-05-12_MTP_R1_sub_back', \n",
    "            'N10',\n",
    "            \"2017-05-19_N11_Cal\", \n",
    "            'merge_2017-05-19_N11_Cal_N00010',\n",
    "            '2017-05-19_N10_Pan'}"
   ]
  },
  {
   "cell_type": "code",
   "execution_count": 24,
   "metadata": {},
   "outputs": [
    {
     "name": "stdout",
     "output_type": "stream",
     "text": [
      "--------------------------------------------------------------------------------\n",
      "Loading data corresponding to data_id: <2018-01-24_E14_X31> in dir <../data/2018-01-24_E14_X31>\n",
      "--------------------------------------------------------------------------------\n",
      "Virus .gal:../data/2018-01-24_E14_X31/2018-01-24_E14_X31_vir.gal\n",
      "Peptide .gal :../data/2018-01-24_E14_X31/2018-01-24_E14_X31_pep.gal\n",
      "Spot intensity file  :../data/2018-01-24_E14_X31/2018-01-24_E14_X31.csv\n",
      "Image file  :../data/2018-01-24_E14_X31/2018-01-24_E14_X31_600_100_635.tif\n",
      "Spot intensities for the data ID (2018-01-24_E14_X31) are not averaged but primary values\n"
     ]
    },
    {
     "data": {
      "text/html": [
       "<div>\n",
       "<style>\n",
       "    .dataframe thead tr:only-child th {\n",
       "        text-align: right;\n",
       "    }\n",
       "\n",
       "    .dataframe thead th {\n",
       "        text-align: left;\n",
       "    }\n",
       "\n",
       "    .dataframe tbody tr th {\n",
       "        vertical-align: top;\n",
       "    }\n",
       "</style>\n",
       "<table border=\"1\" class=\"dataframe\">\n",
       "  <thead>\n",
       "    <tr style=\"text-align: right;\">\n",
       "      <th></th>\n",
       "      <th>Column</th>\n",
       "      <th>Row</th>\n",
       "      <th>Peptide</th>\n",
       "      <th>Reference</th>\n",
       "      <th>Virus</th>\n",
       "      <th>Buffer</th>\n",
       "      <th>No_Peptide</th>\n",
       "      <th>Intensity</th>\n",
       "      <th>Std</th>\n",
       "      <th>Replica</th>\n",
       "    </tr>\n",
       "  </thead>\n",
       "  <tbody>\n",
       "    <tr>\n",
       "      <th>0</th>\n",
       "      <td>1</td>\n",
       "      <td>1</td>\n",
       "      <td>No</td>\n",
       "      <td>False</td>\n",
       "      <td>X31A</td>\n",
       "      <td>False</td>\n",
       "      <td>False</td>\n",
       "      <td>207673</td>\n",
       "      <td>NaN</td>\n",
       "      <td>0</td>\n",
       "    </tr>\n",
       "    <tr>\n",
       "      <th>1</th>\n",
       "      <td>1</td>\n",
       "      <td>2</td>\n",
       "      <td>Pep 10_1.0</td>\n",
       "      <td>False</td>\n",
       "      <td>X31A</td>\n",
       "      <td>False</td>\n",
       "      <td>False</td>\n",
       "      <td>339995</td>\n",
       "      <td>NaN</td>\n",
       "      <td>0</td>\n",
       "    </tr>\n",
       "    <tr>\n",
       "      <th>2</th>\n",
       "      <td>1</td>\n",
       "      <td>3</td>\n",
       "      <td>Pep 13_0.5</td>\n",
       "      <td>False</td>\n",
       "      <td>X31A</td>\n",
       "      <td>False</td>\n",
       "      <td>False</td>\n",
       "      <td>184272</td>\n",
       "      <td>NaN</td>\n",
       "      <td>0</td>\n",
       "    </tr>\n",
       "    <tr>\n",
       "      <th>3</th>\n",
       "      <td>1</td>\n",
       "      <td>4</td>\n",
       "      <td>Pep 49_0.25</td>\n",
       "      <td>False</td>\n",
       "      <td>X31A</td>\n",
       "      <td>False</td>\n",
       "      <td>False</td>\n",
       "      <td>268142</td>\n",
       "      <td>NaN</td>\n",
       "      <td>0</td>\n",
       "    </tr>\n",
       "    <tr>\n",
       "      <th>4</th>\n",
       "      <td>1</td>\n",
       "      <td>5</td>\n",
       "      <td>LF_1.0</td>\n",
       "      <td>False</td>\n",
       "      <td>X31A</td>\n",
       "      <td>False</td>\n",
       "      <td>False</td>\n",
       "      <td>210777</td>\n",
       "      <td>NaN</td>\n",
       "      <td>0</td>\n",
       "    </tr>\n",
       "    <tr>\n",
       "      <th>5</th>\n",
       "      <td>1</td>\n",
       "      <td>6</td>\n",
       "      <td>Pep 12_0.5</td>\n",
       "      <td>False</td>\n",
       "      <td>X31A</td>\n",
       "      <td>False</td>\n",
       "      <td>False</td>\n",
       "      <td>208034</td>\n",
       "      <td>NaN</td>\n",
       "      <td>0</td>\n",
       "    </tr>\n",
       "    <tr>\n",
       "      <th>6</th>\n",
       "      <td>1</td>\n",
       "      <td>7</td>\n",
       "      <td>Pep 6_0.25</td>\n",
       "      <td>False</td>\n",
       "      <td>X31A</td>\n",
       "      <td>False</td>\n",
       "      <td>False</td>\n",
       "      <td>197051</td>\n",
       "      <td>NaN</td>\n",
       "      <td>0</td>\n",
       "    </tr>\n",
       "    <tr>\n",
       "      <th>7</th>\n",
       "      <td>1</td>\n",
       "      <td>8</td>\n",
       "      <td>Pep 61_1.0</td>\n",
       "      <td>False</td>\n",
       "      <td>X31A</td>\n",
       "      <td>False</td>\n",
       "      <td>False</td>\n",
       "      <td>384049</td>\n",
       "      <td>NaN</td>\n",
       "      <td>0</td>\n",
       "    </tr>\n",
       "    <tr>\n",
       "      <th>8</th>\n",
       "      <td>1</td>\n",
       "      <td>9</td>\n",
       "      <td>Pep 11_0.5</td>\n",
       "      <td>False</td>\n",
       "      <td>X31A</td>\n",
       "      <td>False</td>\n",
       "      <td>False</td>\n",
       "      <td>319873</td>\n",
       "      <td>NaN</td>\n",
       "      <td>0</td>\n",
       "    </tr>\n",
       "    <tr>\n",
       "      <th>9</th>\n",
       "      <td>1</td>\n",
       "      <td>10</td>\n",
       "      <td>Pep 14_0.25</td>\n",
       "      <td>False</td>\n",
       "      <td>X31A</td>\n",
       "      <td>False</td>\n",
       "      <td>False</td>\n",
       "      <td>263114</td>\n",
       "      <td>NaN</td>\n",
       "      <td>0</td>\n",
       "    </tr>\n",
       "  </tbody>\n",
       "</table>\n",
       "</div>"
      ],
      "text/plain": [
       "   Column  Row      Peptide  Reference Virus  Buffer  No_Peptide  Intensity  \\\n",
       "0       1    1           No      False  X31A   False       False     207673   \n",
       "1       1    2   Pep 10_1.0      False  X31A   False       False     339995   \n",
       "2       1    3   Pep 13_0.5      False  X31A   False       False     184272   \n",
       "3       1    4  Pep 49_0.25      False  X31A   False       False     268142   \n",
       "4       1    5       LF_1.0      False  X31A   False       False     210777   \n",
       "5       1    6   Pep 12_0.5      False  X31A   False       False     208034   \n",
       "6       1    7   Pep 6_0.25      False  X31A   False       False     197051   \n",
       "7       1    8   Pep 61_1.0      False  X31A   False       False     384049   \n",
       "8       1    9   Pep 11_0.5      False  X31A   False       False     319873   \n",
       "9       1   10  Pep 14_0.25      False  X31A   False       False     263114   \n",
       "\n",
       "   Std  Replica  \n",
       "0  NaN        0  \n",
       "1  NaN        0  \n",
       "2  NaN        0  \n",
       "3  NaN        0  \n",
       "4  NaN        0  \n",
       "5  NaN        0  \n",
       "6  NaN        0  \n",
       "7  NaN        0  \n",
       "8  NaN        0  \n",
       "9  NaN        0  "
      ]
     },
     "metadata": {},
     "output_type": "display_data"
    }
   ],
   "source": [
    "#data_id = 'N00010'# carfull propabaly wrong labeling\n",
    "#directory = \"../data/N00010\" # carfull probably wrong labeling\n",
    "\n",
    "##################################################################\n",
    "\n",
    "#data_id = '2017-05-12_MTP_R1'\n",
    "#data_id = '2017-05-12_MTP_R1_div_back'\n",
    "#data_id = '2017-05-12_MTP_R1_sub_back'\n",
    "#data_id = 'flutype_test'\n",
    "\n",
    "#data_id = \"2017-05-19_N11_Cal\"\n",
    "#directory = \"../data/2017-05-19_N11_Cal\"\n",
    "\n",
    "#data_id = 'merge_2017-05-19_N11_Cal_N00010'\n",
    "#directory ='../data/merge_2017-05-19_N11_Cal_N00010'\n",
    "\n",
    "\n",
    "\n",
    "\n",
    "\n",
    "#data_id = '2017-05-19_N10_Pan'\n",
    "#directory ='../data/2017-05-19_N10_Pan'\n",
    "\n",
    "\n",
    "#data_id = \"2017-05-19_N9_X31\" \n",
    "#directory = \"../data/2017-05-19_N9_X31\" \n",
    "#data_id = \"N9_N10_N11\" \n",
    "#directory = \"../data/N9_N10_N11\" \n",
    "\n",
    "#data_id = \"2017-05-19_E5_X31\" \n",
    "#directory = \"../data/2017-05-19_E5_X31\"\n",
    "\n",
    "data_id = \"2018-01-24_E14_X31\" \n",
    "directory = \"../data/2018-01-24_E14_X31\"\n",
    "\n",
    "#data_id = \"2017-05-19_N5_X31\"\n",
    "#directory = \"../data/2017-05-19_N5_X31\"\n",
    "\n",
    "#data_id = \"2017-05-19_E6_untenliegend_X31\"\n",
    "#directory = \"../data/2017-05-19_E6_untenliegend_X31\"\n",
    "\n",
    "#data_id = \"2017-05-19_N6_Pan\"\n",
    "#directory = \"../data/2017-05-19_N6_Pan\"\n",
    "\n",
    "\n",
    "data = utils.load_data(data_id, directory)\n",
    "ana = analysis.Analysis(data)\n",
    "\n",
    "\n",
    "\n",
    "\n",
    "display(ana.spot.head(10))"
   ]
  },
  {
   "cell_type": "code",
   "execution_count": null,
   "metadata": {},
   "outputs": [],
   "source": []
  },
  {
   "cell_type": "code",
   "execution_count": 26,
   "metadata": {},
   "outputs": [
    {
     "data": {
      "image/png": "[encoded data removed]",
      "text/plain": [
       "<matplotlib.figure.Figure at 0x7f35eab43290>"
      ]
     },
     "metadata": {},
     "output_type": "display_data"
    }
   ],
   "source": []
  },
  {
   "cell_type": "markdown",
   "metadata": {},
   "source": [
    "## Heatmap of array/plate with peptide and virus information"
   ]
  },
  {
   "cell_type": "code",
   "execution_count": 19,
   "metadata": {},
   "outputs": [
    {
     "ename": "AttributeError",
     "evalue": "'NoneType' object has no attribute 'print_figure'",
     "output_type": "error",
     "traceback": [
      "\u001b[0;31m---------------------------------------------------------------------------\u001b[0m",
      "\u001b[0;31mAttributeError\u001b[0m                            Traceback (most recent call last)",
      "\u001b[0;32m<ipython-input-19-76b10ffd71f5>\u001b[0m in \u001b[0;36m<module>\u001b[0;34m()\u001b[0m\n\u001b[1;32m      5\u001b[0m \u001b[0;34m\u001b[0m\u001b[0m\n\u001b[1;32m      6\u001b[0m \u001b[0mutils\u001b[0m\u001b[0;34m.\u001b[0m\u001b[0massure_path_exists\u001b[0m\u001b[0;34m(\u001b[0m\u001b[0;34m\"../results/\"\u001b[0m\u001b[0;34m+\u001b[0m\u001b[0mdata_id\u001b[0m\u001b[0;34m+\u001b[0m\u001b[0;34m\"/\"\u001b[0m\u001b[0;34m)\u001b[0m\u001b[0;34m\u001b[0m\u001b[0m\n\u001b[0;32m----> 7\u001b[0;31m \u001b[0mfig\u001b[0m\u001b[0;34m.\u001b[0m\u001b[0msavefig\u001b[0m\u001b[0;34m(\u001b[0m\u001b[0;34m\"../results/{}/{}_heatmap1.png\"\u001b[0m\u001b[0;34m.\u001b[0m\u001b[0mformat\u001b[0m\u001b[0;34m(\u001b[0m\u001b[0mdata_id\u001b[0m\u001b[0;34m,\u001b[0m\u001b[0mdata_id\u001b[0m\u001b[0;34m)\u001b[0m\u001b[0;34m,\u001b[0m\u001b[0mbbox_inches\u001b[0m\u001b[0;34m=\u001b[0m\u001b[0;34m'tight'\u001b[0m\u001b[0;34m)\u001b[0m\u001b[0;34m\u001b[0m\u001b[0m\n\u001b[0m\u001b[1;32m      8\u001b[0m \u001b[0mplt\u001b[0m\u001b[0;34m.\u001b[0m\u001b[0mshow\u001b[0m\u001b[0;34m(\u001b[0m\u001b[0;34m)\u001b[0m\u001b[0;34m\u001b[0m\u001b[0m\n",
      "\u001b[0;32m/home/janekg89/Envs/flutype_analysis/local/lib/python2.7/site-packages/matplotlib/figure.pyc\u001b[0m in \u001b[0;36msavefig\u001b[0;34m(self, *args, **kwargs)\u001b[0m\n\u001b[1;32m   1571\u001b[0m             \u001b[0mself\u001b[0m\u001b[0;34m.\u001b[0m\u001b[0mset_frameon\u001b[0m\u001b[0;34m(\u001b[0m\u001b[0mframeon\u001b[0m\u001b[0;34m)\u001b[0m\u001b[0;34m\u001b[0m\u001b[0m\n\u001b[1;32m   1572\u001b[0m \u001b[0;34m\u001b[0m\u001b[0m\n\u001b[0;32m-> 1573\u001b[0;31m         \u001b[0mself\u001b[0m\u001b[0;34m.\u001b[0m\u001b[0mcanvas\u001b[0m\u001b[0;34m.\u001b[0m\u001b[0mprint_figure\u001b[0m\u001b[0;34m(\u001b[0m\u001b[0;34m*\u001b[0m\u001b[0margs\u001b[0m\u001b[0;34m,\u001b[0m \u001b[0;34m**\u001b[0m\u001b[0mkwargs\u001b[0m\u001b[0;34m)\u001b[0m\u001b[0;34m\u001b[0m\u001b[0m\n\u001b[0m\u001b[1;32m   1574\u001b[0m \u001b[0;34m\u001b[0m\u001b[0m\n\u001b[1;32m   1575\u001b[0m         \u001b[0;32mif\u001b[0m \u001b[0mframeon\u001b[0m\u001b[0;34m:\u001b[0m\u001b[0;34m\u001b[0m\u001b[0m\n",
      "\u001b[0;31mAttributeError\u001b[0m: 'NoneType' object has no attribute 'print_figure'"
     ]
    }
   ],
   "source": [
    "# shows figure\n",
    "fig = ana.heatmap(figsize=(20,10))\n",
    "\n",
    "plt.title(data_id,fontsize=\"large\")\n",
    "\n",
    "utils.assure_path_exists(\"../results/\"+data_id+\"/\")\n",
    "fig.savefig(\"../results/{}/{}_heatmap1.png\".format(data_id,data_id),bbox_inches='tight')\n",
    "plt.show()"
   ]
  },
  {
   "cell_type": "markdown",
   "metadata": {},
   "source": [
    "## Heatmap mini"
   ]
  },
  {
   "cell_type": "code",
   "execution_count": 21,
   "metadata": {},
   "outputs": [
    {
     "data": {
      "image/png": "[encoded data removed]",
      "text/plain": [
       "<matplotlib.figure.Figure at 0x7f35e8244210>"
      ]
     },
     "metadata": {},
     "output_type": "display_data"
    },
    {
     "ename": "AttributeError",
     "evalue": "'NoneType' object has no attribute 'print_figure'",
     "output_type": "error",
     "traceback": [
      "\u001b[0;31m---------------------------------------------------------------------------\u001b[0m",
      "\u001b[0;31mAttributeError\u001b[0m                            Traceback (most recent call last)",
      "\u001b[0;32m<ipython-input-21-deac74d43646>\u001b[0m in \u001b[0;36m<module>\u001b[0;34m()\u001b[0m\n\u001b[1;32m      5\u001b[0m \u001b[0mutils\u001b[0m\u001b[0;34m.\u001b[0m\u001b[0massure_path_exists\u001b[0m\u001b[0;34m(\u001b[0m\u001b[0;34m\"../results/\"\u001b[0m\u001b[0;34m+\u001b[0m\u001b[0mdata_id\u001b[0m\u001b[0;34m+\u001b[0m\u001b[0;34m\"/\"\u001b[0m\u001b[0;34m)\u001b[0m\u001b[0;34m\u001b[0m\u001b[0m\n\u001b[1;32m      6\u001b[0m \u001b[0;34m\u001b[0m\u001b[0m\n\u001b[0;32m----> 7\u001b[0;31m \u001b[0mfig\u001b[0m\u001b[0;34m.\u001b[0m\u001b[0msavefig\u001b[0m\u001b[0;34m(\u001b[0m\u001b[0;34m\"../results/{}/{}_heatmap2.png\"\u001b[0m\u001b[0;34m.\u001b[0m\u001b[0mformat\u001b[0m\u001b[0;34m(\u001b[0m\u001b[0mdata_id\u001b[0m\u001b[0;34m,\u001b[0m\u001b[0mdata_id\u001b[0m\u001b[0;34m)\u001b[0m\u001b[0;34m,\u001b[0m\u001b[0mbbox_inches\u001b[0m\u001b[0;34m=\u001b[0m\u001b[0;34m'tight'\u001b[0m\u001b[0;34m)\u001b[0m\u001b[0;34m\u001b[0m\u001b[0m\n\u001b[0m",
      "\u001b[0;32m/home/janekg89/Envs/flutype_analysis/local/lib/python2.7/site-packages/matplotlib/figure.pyc\u001b[0m in \u001b[0;36msavefig\u001b[0;34m(self, *args, **kwargs)\u001b[0m\n\u001b[1;32m   1571\u001b[0m             \u001b[0mself\u001b[0m\u001b[0;34m.\u001b[0m\u001b[0mset_frameon\u001b[0m\u001b[0;34m(\u001b[0m\u001b[0mframeon\u001b[0m\u001b[0;34m)\u001b[0m\u001b[0;34m\u001b[0m\u001b[0m\n\u001b[1;32m   1572\u001b[0m \u001b[0;34m\u001b[0m\u001b[0m\n\u001b[0;32m-> 1573\u001b[0;31m         \u001b[0mself\u001b[0m\u001b[0;34m.\u001b[0m\u001b[0mcanvas\u001b[0m\u001b[0;34m.\u001b[0m\u001b[0mprint_figure\u001b[0m\u001b[0;34m(\u001b[0m\u001b[0;34m*\u001b[0m\u001b[0margs\u001b[0m\u001b[0;34m,\u001b[0m \u001b[0;34m**\u001b[0m\u001b[0mkwargs\u001b[0m\u001b[0;34m)\u001b[0m\u001b[0;34m\u001b[0m\u001b[0m\n\u001b[0m\u001b[1;32m   1574\u001b[0m \u001b[0;34m\u001b[0m\u001b[0m\n\u001b[1;32m   1575\u001b[0m         \u001b[0;32mif\u001b[0m \u001b[0mframeon\u001b[0m\u001b[0;34m:\u001b[0m\u001b[0;34m\u001b[0m\u001b[0m\n",
      "\u001b[0;31mAttributeError\u001b[0m: 'NoneType' object has no attribute 'print_figure'"
     ]
    }
   ],
   "source": [
    "#fig = Ana.heatmap(descript=False,nrows=1,ncols=1,figsize=(5,2.5))\n",
    "fig = ana.heatmap(descript=False,figsize=(5,2.5))\n",
    "plt.title(data_id,fontsize=\"large\")\n",
    "plt.show()\n",
    "utils.assure_path_exists(\"../results/\"+data_id+\"/\")\n",
    "\n",
    "fig.savefig(\"../results/{}/{}_heatmap2.png\".format(data_id,data_id),bbox_inches='tight')"
   ]
  },
  {
   "cell_type": "markdown",
   "metadata": {},
   "source": [
    "## Only description"
   ]
  },
  {
   "cell_type": "code",
   "execution_count": 22,
   "metadata": {},
   "outputs": [
    {
     "data": {
      "image/png": "[encoded data removed]",
      "text/plain": [
       "<matplotlib.figure.Figure at 0x7f35e828cf90>"
      ]
     },
     "metadata": {},
     "output_type": "display_data"
    }
   ],
   "source": [
    "fig = ana.heatmap(heatmap=False,figsize=(20,10))\n",
    "plt.title(data_id,fontsize=\"xx-large\")\n",
    "plt.show()"
   ]
  },
  {
   "cell_type": "markdown",
   "metadata": {},
   "source": [
    "## Barplot aligned to peptides"
   ]
  },
  {
   "cell_type": "code",
   "execution_count": 23,
   "metadata": {},
   "outputs": [
    {
     "ename": "AttributeError",
     "evalue": "'NoneType' object has no attribute 'print_figure'",
     "output_type": "error",
     "traceback": [
      "\u001b[0;31m---------------------------------------------------------------------------\u001b[0m",
      "\u001b[0;31mAttributeError\u001b[0m                            Traceback (most recent call last)",
      "\u001b[0;32m<ipython-input-23-279eca0f6f09>\u001b[0m in \u001b[0;36m<module>\u001b[0;34m()\u001b[0m\n\u001b[1;32m      2\u001b[0m \u001b[0mplt\u001b[0m\u001b[0;34m.\u001b[0m\u001b[0mtitle\u001b[0m\u001b[0;34m(\u001b[0m\u001b[0mdata_id\u001b[0m\u001b[0;34m,\u001b[0m\u001b[0my\u001b[0m\u001b[0;34m=\u001b[0m\u001b[0;36m1.30\u001b[0m\u001b[0;34m,\u001b[0m\u001b[0mfontsize\u001b[0m\u001b[0;34m=\u001b[0m\u001b[0;34m\"xx-large\"\u001b[0m\u001b[0;34m)\u001b[0m\u001b[0;34m\u001b[0m\u001b[0m\n\u001b[1;32m      3\u001b[0m \u001b[0mutils\u001b[0m\u001b[0;34m.\u001b[0m\u001b[0massure_path_exists\u001b[0m\u001b[0;34m(\u001b[0m\u001b[0;34m\"../results/\"\u001b[0m\u001b[0;34m+\u001b[0m\u001b[0mdata_id\u001b[0m\u001b[0;34m+\u001b[0m\u001b[0;34m\"/\"\u001b[0m\u001b[0;34m)\u001b[0m\u001b[0;34m\u001b[0m\u001b[0m\n\u001b[0;32m----> 4\u001b[0;31m \u001b[0mfig\u001b[0m\u001b[0;34m.\u001b[0m\u001b[0msavefig\u001b[0m\u001b[0;34m(\u001b[0m\u001b[0;34m\"../results/{}/{}_barplot_pep.png\"\u001b[0m\u001b[0;34m.\u001b[0m\u001b[0mformat\u001b[0m\u001b[0;34m(\u001b[0m\u001b[0mdata_id\u001b[0m\u001b[0;34m,\u001b[0m\u001b[0mdata_id\u001b[0m\u001b[0;34m)\u001b[0m\u001b[0;34m,\u001b[0m\u001b[0mbbox_inches\u001b[0m\u001b[0;34m=\u001b[0m\u001b[0;34m'tight'\u001b[0m\u001b[0;34m)\u001b[0m\u001b[0;34m\u001b[0m\u001b[0m\n\u001b[0m\u001b[1;32m      5\u001b[0m \u001b[0mplt\u001b[0m\u001b[0;34m.\u001b[0m\u001b[0mshow\u001b[0m\u001b[0;34m(\u001b[0m\u001b[0;34m)\u001b[0m\u001b[0;34m\u001b[0m\u001b[0m\n",
      "\u001b[0;32m/home/janekg89/Envs/flutype_analysis/local/lib/python2.7/site-packages/matplotlib/figure.pyc\u001b[0m in \u001b[0;36msavefig\u001b[0;34m(self, *args, **kwargs)\u001b[0m\n\u001b[1;32m   1571\u001b[0m             \u001b[0mself\u001b[0m\u001b[0;34m.\u001b[0m\u001b[0mset_frameon\u001b[0m\u001b[0;34m(\u001b[0m\u001b[0mframeon\u001b[0m\u001b[0;34m)\u001b[0m\u001b[0;34m\u001b[0m\u001b[0m\n\u001b[1;32m   1572\u001b[0m \u001b[0;34m\u001b[0m\u001b[0m\n\u001b[0;32m-> 1573\u001b[0;31m         \u001b[0mself\u001b[0m\u001b[0;34m.\u001b[0m\u001b[0mcanvas\u001b[0m\u001b[0;34m.\u001b[0m\u001b[0mprint_figure\u001b[0m\u001b[0;34m(\u001b[0m\u001b[0;34m*\u001b[0m\u001b[0margs\u001b[0m\u001b[0;34m,\u001b[0m \u001b[0;34m**\u001b[0m\u001b[0mkwargs\u001b[0m\u001b[0;34m)\u001b[0m\u001b[0;34m\u001b[0m\u001b[0m\n\u001b[0m\u001b[1;32m   1574\u001b[0m \u001b[0;34m\u001b[0m\u001b[0m\n\u001b[1;32m   1575\u001b[0m         \u001b[0;32mif\u001b[0m \u001b[0mframeon\u001b[0m\u001b[0;34m:\u001b[0m\u001b[0;34m\u001b[0m\u001b[0m\n",
      "\u001b[0;31mAttributeError\u001b[0m: 'NoneType' object has no attribute 'print_figure'"
     ]
    }
   ],
   "source": [
    "fig = ana.barplot(scale=\"log\",figsize=(20,10))\n",
    "\n",
    "plt.title(data_id,y=1.30,fontsize=\"xx-large\")\n",
    "utils.assure_path_exists(\"../results/\"+data_id+\"/\")\n",
    "fig.savefig(\"../results/{}/{}_barplot_pep.png\".format(data_id,data_id),bbox_inches='tight')\n",
    "plt.show()"
   ]
  },
  {
   "cell_type": "code",
   "execution_count": 27,
   "metadata": {},
   "outputs": [
    {
     "data": {
      "image/png": "[encoded data removed]",
      "text/plain": [
       "<matplotlib.figure.Figure at 0x7f35e25d12d0>"
      ]
     },
     "metadata": {},
     "output_type": "display_data"
    }
   ],
   "source": [
    "fig = ana.barplot(scale=\"log\",figsize=(20,10))\n",
    "plt.show()"
   ]
  },
  {
   "cell_type": "markdown",
   "metadata": {},
   "source": [
    "## Barplot aligned to virus"
   ]
  },
  {
   "cell_type": "code",
   "execution_count": null,
   "metadata": {
    "collapsed": true
   },
   "outputs": [],
   "source": [
    "fig = ana.barplot(scale=\"log\",align=\"vir\",figsize=(20,10))\n",
    "plt.title(data_id,y=1.30,fontsize=\"xx-large\")\n",
    "utils.assure_path_exists(\"../results/\"+data_id+\"/\")\n",
    "fig.savefig(\"../results/{}/{}_barplot_vir.png\".format(data_id,data_id),bbox_inches='tight')\n",
    "plt.show()"
   ]
  },
  {
   "cell_type": "markdown",
   "metadata": {},
   "source": [
    "## PCA 2D Plot"
   ]
  },
  {
   "cell_type": "code",
   "execution_count": 4,
   "metadata": {},
   "outputs": [
    {
     "name": "stderr",
     "output_type": "stream",
     "text": [
      "/home/janekg89/Envs/flutype_analysis/local/lib/python2.7/site-packages/sklearn/discriminant_analysis.py:387: UserWarning: Variables are collinear.\n",
      "  warnings.warn(\"Variables are collinear.\")\n"
     ]
    },
    {
     "data": {
      "text/html": [
       "<div>\n",
       "<style>\n",
       "    .dataframe thead tr:only-child th {\n",
       "        text-align: right;\n",
       "    }\n",
       "\n",
       "    .dataframe thead th {\n",
       "        text-align: left;\n",
       "    }\n",
       "\n",
       "    .dataframe tbody tr th {\n",
       "        vertical-align: top;\n",
       "    }\n",
       "</style>\n",
       "<table border=\"1\" class=\"dataframe\">\n",
       "  <thead>\n",
       "    <tr style=\"text-align: right;\">\n",
       "      <th></th>\n",
       "      <th>Pca_Component_1</th>\n",
       "      <th>Pca_Component_2</th>\n",
       "    </tr>\n",
       "  </thead>\n",
       "  <tbody>\n",
       "    <tr>\n",
       "      <th>P9050</th>\n",
       "      <td>0.000338</td>\n",
       "      <td>0.000385</td>\n",
       "    </tr>\n",
       "    <tr>\n",
       "      <th>FEU100</th>\n",
       "      <td>0.000262</td>\n",
       "      <td>0.000097</td>\n",
       "    </tr>\n",
       "    <tr>\n",
       "      <th>P6100</th>\n",
       "      <td>0.000254</td>\n",
       "      <td>-0.000234</td>\n",
       "    </tr>\n",
       "    <tr>\n",
       "      <th>KLOS025</th>\n",
       "      <td>0.000233</td>\n",
       "      <td>0.000430</td>\n",
       "    </tr>\n",
       "    <tr>\n",
       "      <th>FEU025</th>\n",
       "      <td>0.000211</td>\n",
       "      <td>0.000111</td>\n",
       "    </tr>\n",
       "    <tr>\n",
       "      <th>KLOS100</th>\n",
       "      <td>0.000190</td>\n",
       "      <td>0.000264</td>\n",
       "    </tr>\n",
       "    <tr>\n",
       "      <th>FEU050</th>\n",
       "      <td>0.000167</td>\n",
       "      <td>0.000197</td>\n",
       "    </tr>\n",
       "    <tr>\n",
       "      <th>P10025</th>\n",
       "      <td>0.000151</td>\n",
       "      <td>0.000082</td>\n",
       "    </tr>\n",
       "    <tr>\n",
       "      <th>P8100</th>\n",
       "      <td>0.000087</td>\n",
       "      <td>0.000044</td>\n",
       "    </tr>\n",
       "    <tr>\n",
       "      <th>P16100</th>\n",
       "      <td>0.000083</td>\n",
       "      <td>0.000401</td>\n",
       "    </tr>\n",
       "    <tr>\n",
       "      <th>P8050</th>\n",
       "      <td>0.000080</td>\n",
       "      <td>0.000108</td>\n",
       "    </tr>\n",
       "    <tr>\n",
       "      <th>P16050</th>\n",
       "      <td>0.000073</td>\n",
       "      <td>0.000057</td>\n",
       "    </tr>\n",
       "    <tr>\n",
       "      <th>P13050</th>\n",
       "      <td>0.000072</td>\n",
       "      <td>0.000057</td>\n",
       "    </tr>\n",
       "    <tr>\n",
       "      <th>P11100</th>\n",
       "      <td>0.000041</td>\n",
       "      <td>0.000058</td>\n",
       "    </tr>\n",
       "    <tr>\n",
       "      <th>P13025</th>\n",
       "      <td>0.000039</td>\n",
       "      <td>0.000039</td>\n",
       "    </tr>\n",
       "    <tr>\n",
       "      <th>P9025</th>\n",
       "      <td>0.000033</td>\n",
       "      <td>-0.000071</td>\n",
       "    </tr>\n",
       "    <tr>\n",
       "      <th>KLOA100</th>\n",
       "      <td>0.000031</td>\n",
       "      <td>-0.000026</td>\n",
       "    </tr>\n",
       "    <tr>\n",
       "      <th>P14100</th>\n",
       "      <td>0.000031</td>\n",
       "      <td>0.000049</td>\n",
       "    </tr>\n",
       "    <tr>\n",
       "      <th>NEN100</th>\n",
       "      <td>0.000012</td>\n",
       "      <td>-0.000055</td>\n",
       "    </tr>\n",
       "    <tr>\n",
       "      <th>P12100</th>\n",
       "      <td>0.000006</td>\n",
       "      <td>-0.000078</td>\n",
       "    </tr>\n",
       "    <tr>\n",
       "      <th>P11050</th>\n",
       "      <td>0.000005</td>\n",
       "      <td>0.000042</td>\n",
       "    </tr>\n",
       "    <tr>\n",
       "      <th>KLOS050</th>\n",
       "      <td>-0.000002</td>\n",
       "      <td>0.000176</td>\n",
       "    </tr>\n",
       "    <tr>\n",
       "      <th>P11025</th>\n",
       "      <td>-0.000007</td>\n",
       "      <td>-0.000077</td>\n",
       "    </tr>\n",
       "    <tr>\n",
       "      <th>P14050</th>\n",
       "      <td>-0.000009</td>\n",
       "      <td>-0.000019</td>\n",
       "    </tr>\n",
       "    <tr>\n",
       "      <th>KLOA025</th>\n",
       "      <td>-0.000010</td>\n",
       "      <td>0.000107</td>\n",
       "    </tr>\n",
       "    <tr>\n",
       "      <th>P12050</th>\n",
       "      <td>-0.000013</td>\n",
       "      <td>0.000105</td>\n",
       "    </tr>\n",
       "    <tr>\n",
       "      <th>P7050</th>\n",
       "      <td>-0.000014</td>\n",
       "      <td>0.000310</td>\n",
       "    </tr>\n",
       "    <tr>\n",
       "      <th>P13100</th>\n",
       "      <td>-0.000015</td>\n",
       "      <td>-0.000144</td>\n",
       "    </tr>\n",
       "    <tr>\n",
       "      <th>NEN050</th>\n",
       "      <td>-0.000019</td>\n",
       "      <td>0.000025</td>\n",
       "    </tr>\n",
       "    <tr>\n",
       "      <th>KLOA050</th>\n",
       "      <td>-0.000034</td>\n",
       "      <td>-0.000038</td>\n",
       "    </tr>\n",
       "    <tr>\n",
       "      <th>P10100</th>\n",
       "      <td>-0.000038</td>\n",
       "      <td>0.000082</td>\n",
       "    </tr>\n",
       "    <tr>\n",
       "      <th>P9100</th>\n",
       "      <td>-0.000044</td>\n",
       "      <td>-0.000089</td>\n",
       "    </tr>\n",
       "    <tr>\n",
       "      <th>P10050</th>\n",
       "      <td>-0.000075</td>\n",
       "      <td>0.000003</td>\n",
       "    </tr>\n",
       "    <tr>\n",
       "      <th>P16025</th>\n",
       "      <td>-0.000076</td>\n",
       "      <td>0.000081</td>\n",
       "    </tr>\n",
       "    <tr>\n",
       "      <th>P8025</th>\n",
       "      <td>-0.000102</td>\n",
       "      <td>0.000205</td>\n",
       "    </tr>\n",
       "    <tr>\n",
       "      <th>P14025</th>\n",
       "      <td>-0.000115</td>\n",
       "      <td>-0.000134</td>\n",
       "    </tr>\n",
       "    <tr>\n",
       "      <th>NEN025</th>\n",
       "      <td>-0.000165</td>\n",
       "      <td>-0.000078</td>\n",
       "    </tr>\n",
       "    <tr>\n",
       "      <th>P6025</th>\n",
       "      <td>-0.000241</td>\n",
       "      <td>-0.000178</td>\n",
       "    </tr>\n",
       "    <tr>\n",
       "      <th>P12025</th>\n",
       "      <td>-0.000260</td>\n",
       "      <td>-0.000193</td>\n",
       "    </tr>\n",
       "    <tr>\n",
       "      <th>P6050</th>\n",
       "      <td>-0.000314</td>\n",
       "      <td>-0.000296</td>\n",
       "    </tr>\n",
       "    <tr>\n",
       "      <th>P7025</th>\n",
       "      <td>-0.000397</td>\n",
       "      <td>-0.000307</td>\n",
       "    </tr>\n",
       "    <tr>\n",
       "      <th>P7100</th>\n",
       "      <td>-0.000493</td>\n",
       "      <td>-0.000688</td>\n",
       "    </tr>\n",
       "  </tbody>\n",
       "</table>\n",
       "</div>"
      ],
      "text/plain": [
       "         Pca_Component_1  Pca_Component_2\n",
       "P9050           0.000338         0.000385\n",
       "FEU100          0.000262         0.000097\n",
       "P6100           0.000254        -0.000234\n",
       "KLOS025         0.000233         0.000430\n",
       "FEU025          0.000211         0.000111\n",
       "KLOS100         0.000190         0.000264\n",
       "FEU050          0.000167         0.000197\n",
       "P10025          0.000151         0.000082\n",
       "P8100           0.000087         0.000044\n",
       "P16100          0.000083         0.000401\n",
       "P8050           0.000080         0.000108\n",
       "P16050          0.000073         0.000057\n",
       "P13050          0.000072         0.000057\n",
       "P11100          0.000041         0.000058\n",
       "P13025          0.000039         0.000039\n",
       "P9025           0.000033        -0.000071\n",
       "KLOA100         0.000031        -0.000026\n",
       "P14100          0.000031         0.000049\n",
       "NEN100          0.000012        -0.000055\n",
       "P12100          0.000006        -0.000078\n",
       "P11050          0.000005         0.000042\n",
       "KLOS050        -0.000002         0.000176\n",
       "P11025         -0.000007        -0.000077\n",
       "P14050         -0.000009        -0.000019\n",
       "KLOA025        -0.000010         0.000107\n",
       "P12050         -0.000013         0.000105\n",
       "P7050          -0.000014         0.000310\n",
       "P13100         -0.000015        -0.000144\n",
       "NEN050         -0.000019         0.000025\n",
       "KLOA050        -0.000034        -0.000038\n",
       "P10100         -0.000038         0.000082\n",
       "P9100          -0.000044        -0.000089\n",
       "P10050         -0.000075         0.000003\n",
       "P16025         -0.000076         0.000081\n",
       "P8025          -0.000102         0.000205\n",
       "P14025         -0.000115        -0.000134\n",
       "NEN025         -0.000165        -0.000078\n",
       "P6025          -0.000241        -0.000178\n",
       "P12025         -0.000260        -0.000193\n",
       "P6050          -0.000314        -0.000296\n",
       "P7025          -0.000397        -0.000307\n",
       "P7100          -0.000493        -0.000688"
      ]
     },
     "metadata": {},
     "output_type": "display_data"
    },
    {
     "data": {
      "image/png": "[encoded data removed]",
      "text/plain": [
       "<matplotlib.figure.Figure at 0x7fe9e060b750>"
      ]
     },
     "metadata": {},
     "output_type": "display_data"
    }
   ],
   "source": [
    "antibody = False\n",
    "\n",
    "data_pca = ana.classifier(type=\"LDA\",antibody = antibody )\n",
    "display(data_pca[2])\n",
    "\n",
    "fig = pca.pca_2dplot(data_pca[0],figsize=(4,2))\n",
    "utils.assure_path_exists(\"../results/\"+data_id+\"/\")\n",
    "fig.savefig(\"../results/{}/{}_pca.png\".format(data_id,data_id),bbox_inches='tight')\n",
    "plt.show()\n",
    "\n",
    "html_out=ana.components_to_html(antibody = antibody)\n",
    "HTML1(string=html_out).write_pdf(\"../results/{}/{}.pdf\".format(data_id,data_id), stylesheets=[\"../html/style.css\"])"
   ]
  },
  {
   "cell_type": "code",
   "execution_count": null,
   "metadata": {
    "collapsed": true
   },
   "outputs": [],
   "source": [
    "data_pca[2]/abs(data_pca[2]).sum()"
   ]
  },
  {
   "cell_type": "code",
   "execution_count": null,
   "metadata": {
    "collapsed": true
   },
   "outputs": [],
   "source": []
  },
  {
   "cell_type": "raw",
   "metadata": {},
   "source": [
    "## Correlation Plot"
   ]
  },
  {
   "cell_type": "code",
   "execution_count": null,
   "metadata": {
    "collapsed": true
   },
   "outputs": [],
   "source": [
    "fig = ana.correlation_plot(type=\"both\",figsize=(20,10))\n",
    "fig.savefig(\"../results/{}/{}_corr_matrix_plot.png\".format(data_id,data_id),bbox_inches='tight')\n",
    "plt.show()"
   ]
  },
  {
   "cell_type": "code",
   "execution_count": null,
   "metadata": {
    "collapsed": true
   },
   "outputs": [],
   "source": []
  },
  {
   "cell_type": "code",
   "execution_count": null,
   "metadata": {
    "collapsed": true
   },
   "outputs": [],
   "source": []
  },
  {
   "cell_type": "code",
   "execution_count": null,
   "metadata": {
    "collapsed": true
   },
   "outputs": [],
   "source": []
  }
 ],
 "metadata": {
  "kernelspec": {
   "display_name": "flutype_analysis",
   "language": "python",
   "name": "flutype_analysis"
  },
  "language_info": {
   "codemirror_mode": {
    "name": "ipython",
    "version": 2
   },
   "file_extension": ".py",
   "mimetype": "text/x-python",
   "name": "python",
   "nbconvert_exporter": "python",
   "pygments_lexer": "ipython2",
   "version": "2.7.12"
  }
 },
 "nbformat": 4,
 "nbformat_minor": 1
}
